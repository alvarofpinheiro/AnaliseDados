{
  "nbformat": 4,
  "nbformat_minor": 0,
  "metadata": {
    "colab": {
      "name": "Analise_de_Dados.pynb",
      "provenance": [],
      "collapsed_sections": []
    },
    "kernelspec": {
      "name": "python3",
      "display_name": "Python 3"
    },
    "language_info": {
      "name": "python"
    }
  },
  "cells": [
    {
      "cell_type": "markdown",
      "metadata": {
        "id": "YTVyopqPnQiT"
      },
      "source": [
        "**Listas**\n",
        "são coleções ordenadas de elementos que podem ser acessados através de índices que indicam sua posição"
      ]
    },
    {
      "cell_type": "code",
      "metadata": {
        "id": "sVOIwP2cnR3W",
        "colab": {
          "base_uri": "https://localhost:8080/"
        },
        "outputId": "1a689463-242b-4442-fba4-440907a46797"
      },
      "source": [
        "norte = ['AC','AM','AP','PA','RR','RO','TO']\n",
        "nordeste = ['MA','PI','CE','RN','PB','PE','AL','SE','BA']\n",
        "sudeste = ['RJ', 'SP', 'ES', 'MG']\n",
        "centrooeste = ['MT','MS','GO']\n",
        "sul = ['PR','SC','RS']\n",
        "print(norte)\n",
        "print(nordeste)\n",
        "print(sudeste)\n",
        "print(centrooeste)\n",
        "print(sul)"
      ],
      "execution_count": null,
      "outputs": [
        {
          "output_type": "stream",
          "text": [
            "['AC', 'AM', 'AP', 'PA', 'RR', 'RO', 'TO']\n",
            "['MA', 'PI', 'CE', 'RN', 'PB', 'PE', 'AL', 'SE', 'BA']\n",
            "['RJ', 'SP', 'ES', 'MG']\n",
            "['MT', 'MS', 'GO']\n",
            "['PR', 'SC', 'RS']\n"
          ],
          "name": "stdout"
        }
      ]
    },
    {
      "cell_type": "markdown",
      "metadata": {
        "id": "F4IHjiaYnwS4"
      },
      "source": [
        "A concatenação de listas pode ser realizada com o operador +"
      ]
    },
    {
      "cell_type": "code",
      "metadata": {
        "id": "4z8wTsPpnxfu",
        "colab": {
          "base_uri": "https://localhost:8080/"
        },
        "outputId": "859ebb9d-f7a5-4644-9332-51bb5fa20d24"
      },
      "source": [
        "estados = norte + nordeste + sudeste + centrooeste + sul\n",
        "print(estados)"
      ],
      "execution_count": null,
      "outputs": [
        {
          "output_type": "stream",
          "text": [
            "['AC', 'AM', 'AP', 'PA', 'RR', 'RO', 'TO', 'MA', 'PI', 'CE', 'RN', 'PB', 'PE', 'AL', 'SE', 'BA', 'RJ', 'SP', 'ES', 'MG', 'MT', 'MS', 'GO', 'PR', 'SC', 'RS']\n"
          ],
          "name": "stdout"
        }
      ]
    },
    {
      "cell_type": "markdown",
      "metadata": {
        "id": "kUH34qKqJBYp"
      },
      "source": [
        "A ordenação de lista é realizada pelo método sort"
      ]
    },
    {
      "cell_type": "code",
      "metadata": {
        "colab": {
          "base_uri": "https://localhost:8080/"
        },
        "id": "pG-VQ8O7JJEp",
        "outputId": "1b0dce80-05d9-4099-e0d6-048371f96205"
      },
      "source": [
        "estados.sort()\n",
        "print(estados)"
      ],
      "execution_count": null,
      "outputs": [
        {
          "output_type": "stream",
          "text": [
            "['AC', 'AL', 'AM', 'AP', 'BA', 'CE', 'ES', 'GO', 'MA', 'MG', 'MS', 'MT', 'PA', 'PB', 'PE', 'PI', 'PR', 'RJ', 'RN', 'RO', 'RR', 'RS', 'SC', 'SE', 'SP', 'TO']\n"
          ],
          "name": "stdout"
        }
      ]
    },
    {
      "cell_type": "markdown",
      "metadata": {
        "id": "lHV2B8iAn2DO"
      },
      "source": [
        "O acesso aos elementos é feito pelo uso do seu índice"
      ]
    },
    {
      "cell_type": "code",
      "metadata": {
        "colab": {
          "base_uri": "https://localhost:8080/",
          "height": 35
        },
        "id": "TgyLqgkyn3OB",
        "outputId": "e3eed60b-7d24-46ea-867c-85b27c97a39b"
      },
      "source": [
        "estados[2]"
      ],
      "execution_count": null,
      "outputs": [
        {
          "output_type": "execute_result",
          "data": {
            "application/vnd.google.colaboratory.intrinsic+json": {
              "type": "string"
            },
            "text/plain": [
              "'AM'"
            ]
          },
          "metadata": {
            "tags": []
          },
          "execution_count": 5
        }
      ]
    },
    {
      "cell_type": "markdown",
      "metadata": {
        "id": "nHGnxoWDoDyf"
      },
      "source": [
        "Para adicionar um novo elemento no final da lista"
      ]
    },
    {
      "cell_type": "code",
      "metadata": {
        "id": "U08mWwRUoFZF",
        "colab": {
          "base_uri": "https://localhost:8080/"
        },
        "outputId": "d5a09bca-b277-4d68-d1ce-f2103ebe552c"
      },
      "source": [
        "estados.append('DF')\n",
        "print(estados)"
      ],
      "execution_count": null,
      "outputs": [
        {
          "output_type": "stream",
          "text": [
            "['AC', 'AL', 'AM', 'AP', 'BA', 'CE', 'ES', 'GO', 'MA', 'MG', 'MS', 'MT', 'PA', 'PB', 'PE', 'PI', 'PR', 'RJ', 'RN', 'RO', 'RR', 'RS', 'SC', 'SE', 'SP', 'TO', 'DF']\n"
          ],
          "name": "stdout"
        }
      ]
    },
    {
      "cell_type": "markdown",
      "metadata": {
        "id": "RAkO2kV4oKRm"
      },
      "source": [
        "Para se obter o tamanho de uma lista"
      ]
    },
    {
      "cell_type": "code",
      "metadata": {
        "colab": {
          "base_uri": "https://localhost:8080/"
        },
        "id": "BJ6gP-7IoNQW",
        "outputId": "2f845de4-2aec-444a-9d21-b801a0d3a985"
      },
      "source": [
        "len(estados)"
      ],
      "execution_count": null,
      "outputs": [
        {
          "output_type": "execute_result",
          "data": {
            "text/plain": [
              "27"
            ]
          },
          "metadata": {
            "tags": []
          },
          "execution_count": 7
        }
      ]
    },
    {
      "cell_type": "markdown",
      "metadata": {
        "id": "lqaSuqNJLG-h"
      },
      "source": [
        "Para saber qual o índice de um valor da lista"
      ]
    },
    {
      "cell_type": "code",
      "metadata": {
        "colab": {
          "base_uri": "https://localhost:8080/"
        },
        "id": "VVIMOmRqLJAN",
        "outputId": "fb2b5a2d-c5e1-4735-d2f7-28a8e626c542"
      },
      "source": [
        "estados.index('DF')"
      ],
      "execution_count": null,
      "outputs": [
        {
          "output_type": "execute_result",
          "data": {
            "text/plain": [
              "26"
            ]
          },
          "metadata": {
            "tags": []
          },
          "execution_count": 8
        }
      ]
    },
    {
      "cell_type": "markdown",
      "metadata": {
        "id": "3FSsRS4SoRaG"
      },
      "source": [
        "Para se modificar o valor de um elemento da lista usa-se o seu índice"
      ]
    },
    {
      "cell_type": "code",
      "metadata": {
        "id": "YDV2W_36oUPZ",
        "colab": {
          "base_uri": "https://localhost:8080/"
        },
        "outputId": "ffc10129-32a4-4f28-8736-ed3322bb7908"
      },
      "source": [
        "estados[26] = 'df'\n",
        "print(estados)"
      ],
      "execution_count": null,
      "outputs": [
        {
          "output_type": "stream",
          "text": [
            "['AC', 'AL', 'AM', 'AP', 'BA', 'CE', 'ES', 'GO', 'MA', 'MG', 'MS', 'MT', 'PA', 'PB', 'PE', 'PI', 'PR', 'RJ', 'RN', 'RO', 'RR', 'RS', 'SC', 'SE', 'SP', 'TO', 'df']\n"
          ],
          "name": "stdout"
        }
      ]
    },
    {
      "cell_type": "markdown",
      "metadata": {
        "id": "symI9H1VoaxO"
      },
      "source": [
        "**Tuplas** são listas imutáveis"
      ]
    },
    {
      "cell_type": "code",
      "metadata": {
        "id": "GKd1kHQ7ocIk",
        "colab": {
          "base_uri": "https://localhost:8080/"
        },
        "outputId": "354b7113-8566-483a-bd78-85bd82304b00"
      },
      "source": [
        "norte = ('AC','AM','AP','PA','RR','RO','TO')\n",
        "nordeste = ('MA','PI','CE','RN','PB','PE','AL','SE','BA')\n",
        "sudeste = ('RJ', 'SP', 'ES', 'MG')\n",
        "centrooeste = ('MT','MS','GO')\n",
        "sul = ('PR','SC','RS')\n",
        "print(norte)\n",
        "print(nordeste)\n",
        "print(sudeste)\n",
        "print(centrooeste)\n",
        "print(sul)"
      ],
      "execution_count": null,
      "outputs": [
        {
          "output_type": "stream",
          "text": [
            "('AC', 'AM', 'AP', 'PA', 'RR', 'RO', 'TO')\n",
            "('MA', 'PI', 'CE', 'RN', 'PB', 'PE', 'AL', 'SE', 'BA')\n",
            "('RJ', 'SP', 'ES', 'MG')\n",
            "('MT', 'MS', 'GO')\n",
            "('PR', 'SC', 'RS')\n"
          ],
          "name": "stdout"
        }
      ]
    },
    {
      "cell_type": "markdown",
      "metadata": {
        "id": "bv3blbOpoqfY"
      },
      "source": [
        "**Conjuntos** são coleções não ordenadas cujos os elementos não se repetem"
      ]
    },
    {
      "cell_type": "code",
      "metadata": {
        "id": "rySUFxHko7vX",
        "colab": {
          "base_uri": "https://localhost:8080/"
        },
        "outputId": "bc06cde0-cfa6-4d67-e8e7-ad661ff8f0aa"
      },
      "source": [
        "norte = {'AC','AM','AP','PA','RR','RO','TO'}\n",
        "nordeste = {'MA','PI','CE','RN','PB','PE','AL','SE','BA'}\n",
        "sudeste = {'RJ', 'SP', 'ES', 'MG'}\n",
        "centrooeste = {'MT','MS','GO'}\n",
        "sul = {'PR','SC','RS'}\n",
        "print(norte)\n",
        "print(nordeste)\n",
        "print(sudeste)\n",
        "print(centrooeste)\n",
        "print(sul)"
      ],
      "execution_count": null,
      "outputs": [
        {
          "output_type": "stream",
          "text": [
            "{'AC', 'RO', 'TO', 'RR', 'AP', 'PA', 'AM'}\n",
            "{'PB', 'PE', 'CE', 'AL', 'MA', 'RN', 'SE', 'BA', 'PI'}\n",
            "{'RJ', 'MG', 'SP', 'ES'}\n",
            "{'MS', 'MT', 'GO'}\n",
            "{'SC', 'RS', 'PR'}\n"
          ],
          "name": "stdout"
        }
      ]
    },
    {
      "cell_type": "markdown",
      "metadata": {
        "id": "8hDQZaQJRzdo"
      },
      "source": [
        "Pode-se transformar uma lista em conjunto"
      ]
    },
    {
      "cell_type": "code",
      "metadata": {
        "colab": {
          "base_uri": "https://localhost:8080/"
        },
        "id": "GeY8kyRxR2Az",
        "outputId": "60e8f05d-b247-4d35-80c8-60532277058d"
      },
      "source": [
        "nordeste = ['MA','PI','CE','RN','PB','PE','AL','SE','BA']\n",
        "estados = set(nordeste)\n",
        "print(estados)"
      ],
      "execution_count": null,
      "outputs": [
        {
          "output_type": "stream",
          "text": [
            "{'PB', 'PE', 'CE', 'AL', 'MA', 'RN', 'SE', 'BA', 'PI'}\n"
          ],
          "name": "stdout"
        }
      ]
    },
    {
      "cell_type": "markdown",
      "metadata": {
        "id": "uXcBjksRpP4-"
      },
      "source": [
        "Para adicionar novos elementos em um conjunto se usa o método .add"
      ]
    },
    {
      "cell_type": "code",
      "metadata": {
        "id": "ALwjRlO_pS7U",
        "colab": {
          "base_uri": "https://localhost:8080/"
        },
        "outputId": "6d03b640-21ff-4ce0-f71b-a69d79d1bc01"
      },
      "source": [
        "estados.add('SP')\n",
        "estados.add('PE')\n",
        "print(estados)"
      ],
      "execution_count": null,
      "outputs": [
        {
          "output_type": "stream",
          "text": [
            "{'PB', 'PE', 'CE', 'AL', 'MA', 'SP', 'RN', 'SE', 'BA', 'PI'}\n"
          ],
          "name": "stdout"
        }
      ]
    },
    {
      "cell_type": "markdown",
      "metadata": {
        "id": "2JyqJ1iNpW5B"
      },
      "source": [
        "Para mesclar conjuntos usa-se o método update"
      ]
    },
    {
      "cell_type": "code",
      "metadata": {
        "colab": {
          "base_uri": "https://localhost:8080/"
        },
        "id": "m4P0D9W1pZwJ",
        "outputId": "c0f57ae3-934a-4d49-808f-e0fa71238ff1"
      },
      "source": [
        "norte = set(['AC','AM','AP','PA','RR','RO','TO'])\n",
        "nordeste = set(['MA','PI','CE','RN','PB','PE','AL','SE','BA'])\n",
        "sudeste = set(['RJ', 'SP', 'ES', 'MG'])\n",
        "centrooeste = set(['MT','MS','GO'])\n",
        "sul = set(['PR','SC','RS'])\n",
        "print(norte)\n",
        "print(nordeste)\n",
        "print(sudeste)\n",
        "print(centrooeste)\n",
        "print(sul)\n",
        "estados.update(norte)\n",
        "estados.update(nordeste)\n",
        "estados.update(sudeste)\n",
        "estados.update(centrooeste)\n",
        "estados.update(sul)\n",
        "print(estados)"
      ],
      "execution_count": null,
      "outputs": [
        {
          "output_type": "stream",
          "text": [
            "{'AC', 'RO', 'TO', 'RR', 'AP', 'PA', 'AM'}\n",
            "{'PB', 'PE', 'CE', 'AL', 'MA', 'RN', 'SE', 'BA', 'PI'}\n",
            "{'RJ', 'MG', 'SP', 'ES'}\n",
            "{'MS', 'MT', 'GO'}\n",
            "{'SC', 'RS', 'PR'}\n",
            "{'AC', 'RO', 'TO', 'MS', 'PB', 'AP', 'PE', 'AM', 'RJ', 'BA', 'GO', 'SP', 'RR', 'RS', 'CE', 'PA', 'AL', 'MT', 'MA', 'RN', 'SE', 'ES', 'MG', 'SC', 'PI', 'PR'}\n"
          ],
          "name": "stdout"
        }
      ]
    },
    {
      "cell_type": "markdown",
      "metadata": {
        "id": "QwgzJzMIpu9Y"
      },
      "source": [
        "**Dicionários** são mapas chave-valor que permitem a definação de relação entre seus elementos"
      ]
    },
    {
      "cell_type": "code",
      "metadata": {
        "colab": {
          "base_uri": "https://localhost:8080/"
        },
        "id": "6NVRCXKlpxVp",
        "outputId": "99293bd8-2782-466a-c2bc-6e4027e2a9d2"
      },
      "source": [
        "norte = {'AC':1,'AM':2,'AP':3,'PA':4,'RR':5,'RO':6,'TO':7}\n",
        "nordeste = {'MA':8,'PI':9,'CE':10,'RN':11,'PB':12,'PE':13,'AL':14,'SE':15,'BA':16}\n",
        "sudeste = {'RJ':17, 'SP':18, 'ES':19, 'MG':21}\n",
        "centrooeste = {'MT':22,'MS':23,'GO':24}\n",
        "sul = {'PR':25,'SC':26,'RS':27}\n",
        "print(norte)\n",
        "print(nordeste)\n",
        "print(sudeste)\n",
        "print(centrooeste)\n",
        "print(sul)"
      ],
      "execution_count": null,
      "outputs": [
        {
          "output_type": "stream",
          "text": [
            "{'AC': 1, 'AM': 2, 'AP': 3, 'PA': 4, 'RR': 5, 'RO': 6, 'TO': 7}\n",
            "{'MA': 8, 'PI': 9, 'CE': 10, 'RN': 11, 'PB': 12, 'PE': 13, 'AL': 14, 'SE': 15, 'BA': 16}\n",
            "{'RJ': 17, 'SP': 18, 'ES': 19, 'MG': 21}\n",
            "{'MT': 22, 'MS': 23, 'GO': 24}\n",
            "{'PR': 25, 'SC': 26, 'RS': 27}\n"
          ],
          "name": "stdout"
        }
      ]
    },
    {
      "cell_type": "markdown",
      "metadata": {
        "id": "tc6efvJCqBLR"
      },
      "source": [
        "Se tentarmos utilizar uma chave que não exista no dicionário, este irá retornar um erro, mas temos a possibilidade de verificar se aquela chave é existente ou não"
      ]
    },
    {
      "cell_type": "code",
      "metadata": {
        "colab": {
          "base_uri": "https://localhost:8080/"
        },
        "id": "D8aGJTXDqFCt",
        "outputId": "85c53b57-73ec-4db8-ca14-ffdc494dfe05"
      },
      "source": [
        "codigo = nordeste['PE']\n",
        "print(codigo)\n",
        "existe = 'AL' in nordeste\n",
        "print(existe)"
      ],
      "execution_count": null,
      "outputs": [
        {
          "output_type": "stream",
          "text": [
            "13\n",
            "True\n"
          ],
          "name": "stdout"
        }
      ]
    },
    {
      "cell_type": "markdown",
      "metadata": {
        "id": "BOWwe5-1qPBE"
      },
      "source": [
        "Se pode usar o método .get para retornar o valor de uma chave"
      ]
    },
    {
      "cell_type": "code",
      "metadata": {
        "colab": {
          "base_uri": "https://localhost:8080/"
        },
        "id": "gTQMMkMkqSlN",
        "outputId": "eb3bcdbe-bdaf-406f-a765-f80058a43fe9"
      },
      "source": [
        "codigo = nordeste.get('PB')\n",
        "print(codigo)"
      ],
      "execution_count": null,
      "outputs": [
        {
          "output_type": "stream",
          "text": [
            "12\n"
          ],
          "name": "stdout"
        }
      ]
    },
    {
      "cell_type": "markdown",
      "metadata": {
        "id": "asIH96ozqfr8"
      },
      "source": [
        "A atualização do valor pela chave se faz da seguinte forma"
      ]
    },
    {
      "cell_type": "code",
      "metadata": {
        "id": "BpsGbRP4qiyI",
        "colab": {
          "base_uri": "https://localhost:8080/"
        },
        "outputId": "d0009a9a-c899-4136-dda4-33ca6871783b"
      },
      "source": [
        "nordeste['PE'] = 0\n",
        "print(nordeste)"
      ],
      "execution_count": null,
      "outputs": [
        {
          "output_type": "stream",
          "text": [
            "{'MA': 8, 'PI': 9, 'CE': 10, 'RN': 11, 'PB': 12, 'PE': 0, 'AL': 14, 'SE': 15, 'BA': 16}\n"
          ],
          "name": "stdout"
        }
      ]
    },
    {
      "cell_type": "markdown",
      "metadata": {
        "id": "PqPraRS6qsBc"
      },
      "source": [
        "Com os métodos .keys, .values e .items se obtém os valores, as chaves e os itens do dicionário"
      ]
    },
    {
      "cell_type": "code",
      "metadata": {
        "colab": {
          "base_uri": "https://localhost:8080/"
        },
        "id": "nmiLyWRaqtlN",
        "outputId": "2d70d34b-3cf1-485e-847d-2da79e3c6c98"
      },
      "source": [
        "print(nordeste.keys())\n",
        "print(nordeste.values())\n",
        "print(nordeste.items())"
      ],
      "execution_count": null,
      "outputs": [
        {
          "output_type": "stream",
          "text": [
            "dict_keys(['MA', 'PI', 'CE', 'RN', 'PB', 'PE', 'AL', 'SE', 'BA'])\n",
            "dict_values([8, 9, 10, 11, 12, 0, 14, 15, 16])\n",
            "dict_items([('MA', 8), ('PI', 9), ('CE', 10), ('RN', 11), ('PB', 12), ('PE', 0), ('AL', 14), ('SE', 15), ('BA', 16)])\n"
          ],
          "name": "stdout"
        }
      ]
    },
    {
      "cell_type": "markdown",
      "metadata": {
        "id": "90Dw1jSdrgju"
      },
      "source": [
        "**Pipeline** um fluxo que indica a próxima instrução a ser executada"
      ]
    },
    {
      "cell_type": "code",
      "metadata": {
        "id": "SuG8JK31rp_I"
      },
      "source": [
        "\n",
        "pessoa1 = {'nome': 'Fulano', 'estado': 'PE', 'renda': 80000.00}\n",
        "pessoa2 = {'nome': 'Beltrano', 'estado': 'PE','renda': 60000.00}\n",
        "pessoa3 = {'nome': 'Sicrano', 'estado': 'AL', 'renda': 70000.00}\n",
        "pessoa4 = {'nome': 'Alano', 'estado': 'PE','renda': 60000.00}\n",
        "pessoa5 = {'nome': 'Mengano', 'estado': 'AL', 'renda': 80000.00}\n",
        "pessoa6 = {'nome': 'Zutano', 'estado': 'BA','renda': 60000.00}\n",
        "pessoa7 = {'nome': 'Citano', 'estado': 'AL', 'renda': 50000.00}\n",
        "pessoa8 = {'nome': 'Perengano', 'estado': 'PE','renda': 90000.00}\n",
        "pessoa9 = {'nome': 'Tartano', 'estado': 'BA', 'renda': 80000.00}"
      ],
      "execution_count": null,
      "outputs": []
    },
    {
      "cell_type": "markdown",
      "metadata": {
        "id": "Cnvelyb3r42Y"
      },
      "source": [
        "**Condicional** é a estrutura **if: .. elif: .. else:** permite realizar escolhas\n",
        "\n",
        "*Exemplo: aplicar desconto de 15% na renda se estado for PE e 20% caso contrário*"
      ]
    },
    {
      "cell_type": "code",
      "metadata": {
        "colab": {
          "base_uri": "https://localhost:8080/"
        },
        "id": "dIxr4GQor52Z",
        "outputId": "12784d66-8e63-4dca-e4bc-2d15a6ae834b"
      },
      "source": [
        "print(pessoa1)\n",
        "if pessoa1['estado'] == 'PE':\n",
        "   pessoa1['renda'] = pessoa1['renda']*(1.0-0.15)\n",
        "else:\n",
        "   pessoa1['renda'] = pessoa1['renda']*(1.0-0.20)\n",
        "print(pessoa1)"
      ],
      "execution_count": null,
      "outputs": [
        {
          "output_type": "stream",
          "text": [
            "{'nome': 'Fulano', 'estado': 'PE', 'renda': 80000.0}\n",
            "{'nome': 'Fulano', 'estado': 'PE', 'renda': 68000.0}\n"
          ],
          "name": "stdout"
        }
      ]
    },
    {
      "cell_type": "markdown",
      "metadata": {
        "id": "5p1rcLrXsupD"
      },
      "source": [
        "**Iteração** uma forma de aplicar o desconto numa lista é iterando sobre ela"
      ]
    },
    {
      "cell_type": "code",
      "metadata": {
        "id": "Hjgx383Esx3M",
        "colab": {
          "base_uri": "https://localhost:8080/"
        },
        "outputId": "69b15764-4581-4515-fb2c-1b8afea75be0"
      },
      "source": [
        "pessoas = [\n",
        " {'nome': 'Fulano', 'estado': 'PE', 'renda': 80000.00},\n",
        " {'nome': 'Beltrano', 'estado': 'PE','renda': 60000.00},\n",
        " {'nome': 'Sicrano', 'estado': 'AL', 'renda': 70000.00},\n",
        " {'nome': 'Alano', 'estado': 'PE','renda': 60000.00},\n",
        " {'nome': 'Mengano', 'estado': 'AL', 'renda': 80000.00},\n",
        " {'nome': 'Zutano', 'estado': 'BA','renda': 60000.00},\n",
        " {'nome': 'Citano', 'estado': 'AL', 'renda': 50000.00},\n",
        " {'nome': 'Perengano', 'estado': 'PE','renda': 90000.00},\n",
        " {'nome': 'Tartano', 'estado': 'BA', 'renda': 80000.00}\n",
        "]\n",
        "pessoas"
      ],
      "execution_count": null,
      "outputs": [
        {
          "output_type": "execute_result",
          "data": {
            "text/plain": [
              "[{'estado': 'PE', 'nome': 'Fulano', 'renda': 80000.0},\n",
              " {'estado': 'PE', 'nome': 'Beltrano', 'renda': 60000.0},\n",
              " {'estado': 'AL', 'nome': 'Sicrano', 'renda': 70000.0},\n",
              " {'estado': 'PE', 'nome': 'Alano', 'renda': 60000.0},\n",
              " {'estado': 'AL', 'nome': 'Mengano', 'renda': 80000.0},\n",
              " {'estado': 'BA', 'nome': 'Zutano', 'renda': 60000.0},\n",
              " {'estado': 'AL', 'nome': 'Citano', 'renda': 50000.0},\n",
              " {'estado': 'PE', 'nome': 'Perengano', 'renda': 90000.0},\n",
              " {'estado': 'BA', 'nome': 'Tartano', 'renda': 80000.0}]"
            ]
          },
          "metadata": {
            "tags": []
          },
          "execution_count": 22
        }
      ]
    },
    {
      "cell_type": "markdown",
      "metadata": {
        "id": "-4-pQa9wtnyZ"
      },
      "source": [
        "**Repetição** é a estrutura **for:** que permite iterar em cada elemento da lista"
      ]
    },
    {
      "cell_type": "code",
      "metadata": {
        "id": "kDd7UZ8itow9",
        "colab": {
          "base_uri": "https://localhost:8080/"
        },
        "outputId": "56751076-0733-413a-a5c5-9d1b96428a60"
      },
      "source": [
        "rendas = []\n",
        "for pessoa in pessoas:\n",
        "    if pessoa['estado'] == 'PE':\n",
        "       pessoa['renda'] = pessoa['renda']*(1.0-0.15)\n",
        "    elif pessoa['estado'] == 'AL':\n",
        "       pessoa['renda'] = pessoa['renda']*(1.0-0.17)\n",
        "    else:\n",
        "       pessoa['renda'] = pessoa['renda']*(1.0-0.20)\n",
        "    rendas.append(pessoa)\n",
        "rendas"
      ],
      "execution_count": null,
      "outputs": [
        {
          "output_type": "execute_result",
          "data": {
            "text/plain": [
              "[{'estado': 'PE', 'nome': 'Fulano', 'renda': 68000.0},\n",
              " {'estado': 'PE', 'nome': 'Beltrano', 'renda': 51000.0},\n",
              " {'estado': 'AL', 'nome': 'Sicrano', 'renda': 58100.0},\n",
              " {'estado': 'PE', 'nome': 'Alano', 'renda': 51000.0},\n",
              " {'estado': 'AL', 'nome': 'Mengano', 'renda': 66400.0},\n",
              " {'estado': 'BA', 'nome': 'Zutano', 'renda': 48000.0},\n",
              " {'estado': 'AL', 'nome': 'Citano', 'renda': 41500.0},\n",
              " {'estado': 'PE', 'nome': 'Perengano', 'renda': 76500.0},\n",
              " {'estado': 'BA', 'nome': 'Tartano', 'renda': 64000.0}]"
            ]
          },
          "metadata": {
            "tags": []
          },
          "execution_count": 23
        }
      ]
    },
    {
      "cell_type": "markdown",
      "metadata": {
        "id": "YJ2kwQ6RuWwr"
      },
      "source": [
        "**Função** é a estrutura **def:** e é um trecho de código que pode ser parametrizado e reutilizado\n",
        "\n",
        "*Exemplo: criar uma função que aplique os descontos com base na taxa que cada estado utiliza*"
      ]
    },
    {
      "cell_type": "code",
      "metadata": {
        "id": "k-X9NTdPuYUA",
        "colab": {
          "base_uri": "https://localhost:8080/"
        },
        "outputId": "b44b430f-c548-4ec9-80e5-89091559712a"
      },
      "source": [
        "descontos = {\n",
        " 'PE': 0.15,\n",
        " 'AL': 0.17,\n",
        " 'BA': 0.20\n",
        " }\n",
        "print(descontos)"
      ],
      "execution_count": null,
      "outputs": [
        {
          "output_type": "stream",
          "text": [
            "{'PE': 0.15, 'AL': 0.17, 'BA': 0.2}\n"
          ],
          "name": "stdout"
        }
      ]
    },
    {
      "cell_type": "code",
      "metadata": {
        "id": "iuexKH7hvNwA"
      },
      "source": [
        "def aplicarDesconto(pessoa, desconto):\n",
        "    pessoa['renda']\t=\tpessoa['renda']*(1.0-desconto)\n",
        "    return pessoa"
      ],
      "execution_count": null,
      "outputs": []
    },
    {
      "cell_type": "code",
      "metadata": {
        "colab": {
          "base_uri": "https://localhost:8080/"
        },
        "id": "bFN1IhDhvdA8",
        "outputId": "a883a37e-f6d5-4b9a-9a2c-14af30add49c"
      },
      "source": [
        "pessoas\n",
        "rendas = []\n",
        "for pessoa in pessoas:\n",
        "    if pessoa['estado'] in descontos.keys():\n",
        "       estado = pessoa['estado']\n",
        "       desconto = descontos[estado]\n",
        "    pessoa = aplicarDesconto(pessoa, desconto)\n",
        "    rendas.append(pessoa)\n",
        "rendas"
      ],
      "execution_count": null,
      "outputs": [
        {
          "output_type": "execute_result",
          "data": {
            "text/plain": [
              "[{'estado': 'PE', 'nome': 'Fulano', 'renda': 57800.0},\n",
              " {'estado': 'PE', 'nome': 'Beltrano', 'renda': 43350.0},\n",
              " {'estado': 'AL', 'nome': 'Sicrano', 'renda': 48223.0},\n",
              " {'estado': 'PE', 'nome': 'Alano', 'renda': 43350.0},\n",
              " {'estado': 'AL', 'nome': 'Mengano', 'renda': 55112.0},\n",
              " {'estado': 'BA', 'nome': 'Zutano', 'renda': 38400.0},\n",
              " {'estado': 'AL', 'nome': 'Citano', 'renda': 34445.0},\n",
              " {'estado': 'PE', 'nome': 'Perengano', 'renda': 65025.0},\n",
              " {'estado': 'BA', 'nome': 'Tartano', 'renda': 51200.0}]"
            ]
          },
          "metadata": {
            "tags": []
          },
          "execution_count": 26
        }
      ]
    },
    {
      "cell_type": "markdown",
      "metadata": {
        "id": "qifwbgFlvypY"
      },
      "source": [
        "**Numpy** é um pacote para computação científica com operações e métodos para vetores e matrizes multidimensionais com funções para álgebra linear, estatística e matemática"
      ]
    },
    {
      "cell_type": "code",
      "metadata": {
        "id": "lh83URhXwDc0"
      },
      "source": [
        "import numpy as np"
      ],
      "execution_count": null,
      "outputs": []
    },
    {
      "cell_type": "markdown",
      "metadata": {
        "id": "xShXSLeewGtA"
      },
      "source": [
        "**Array** é a estrutura básica do Numpy que podem ser vetores, matrizes e tensores"
      ]
    },
    {
      "cell_type": "code",
      "metadata": {
        "colab": {
          "base_uri": "https://localhost:8080/"
        },
        "id": "gIFvGbStwNyf",
        "outputId": "a9a3e457-28d7-4b77-ae0b-10d353167ff7"
      },
      "source": [
        "vetor = np.array([1,2,3,4,5,6,7,8,9])\n",
        "print('vetor:', vetor)\n",
        "matriz = np.array([[1,2,3],[4,5,6],[7,8,9]])\n",
        "print('matriz:', matriz)\n",
        "tensor = np.array([[[1,2],[3,4]], [[5,6],[7,8]], [[9,10],[11,12]]])\n",
        "print('tensor:', tensor)"
      ],
      "execution_count": null,
      "outputs": [
        {
          "output_type": "stream",
          "text": [
            "vetor: [1 2 3 4 5 6 7 8 9]\n",
            "matriz: [[1 2 3]\n",
            " [4 5 6]\n",
            " [7 8 9]]\n",
            "tensor: [[[ 1  2]\n",
            "  [ 3  4]]\n",
            "\n",
            " [[ 5  6]\n",
            "  [ 7  8]]\n",
            "\n",
            " [[ 9 10]\n",
            "  [11 12]]]\n"
          ],
          "name": "stdout"
        }
      ]
    },
    {
      "cell_type": "markdown",
      "metadata": {
        "id": "OXXXLajOw47K"
      },
      "source": [
        "**ndim** método que fornece a ordem do objeto"
      ]
    },
    {
      "cell_type": "code",
      "metadata": {
        "colab": {
          "base_uri": "https://localhost:8080/"
        },
        "id": "Qgm3Wxvtw8TP",
        "outputId": "a81e4f68-4ab6-4a92-8ac4-29f1d29e8926"
      },
      "source": [
        "print('ordem do vetor:', vetor.ndim)\n",
        "print('ordem do matriz:', matriz.ndim)\n",
        "print('ordem do tensor:', tensor.ndim)"
      ],
      "execution_count": null,
      "outputs": [
        {
          "output_type": "stream",
          "text": [
            "ordem do vetor: 1\n",
            "ordem do matriz: 2\n",
            "ordem do tensor: 3\n"
          ],
          "name": "stdout"
        }
      ]
    },
    {
      "cell_type": "markdown",
      "metadata": {
        "id": "RAF6IRy-xP-G"
      },
      "source": [
        "**índices** para obter um elemento do vetor usa-se um índice, na matriz dois índices (linha e coluna) e no tensor um índice que é a matriz"
      ]
    },
    {
      "cell_type": "code",
      "metadata": {
        "colab": {
          "base_uri": "https://localhost:8080/"
        },
        "id": "nZahuFfKxQvb",
        "outputId": "cfd1dd87-b8e9-4439-9349-d17206400176"
      },
      "source": [
        "print('vetor:', vetor[0])\n",
        "print('matriz:', matriz[0,0])\n",
        "print('tensor com 1 índice:', tensor[0])\n",
        "print('tensor com 2 índices:', tensor[0,0])\n",
        "print('tensor com 3 índices:', tensor[0,0,0])"
      ],
      "execution_count": null,
      "outputs": [
        {
          "output_type": "stream",
          "text": [
            "vetor: 1\n",
            "matriz: 1\n",
            "tensor com 1 índice: [[1 2]\n",
            " [3 4]]\n",
            "tensor com 2 índices: [1 2]\n",
            "tensor com 3 índices: 1\n"
          ],
          "name": "stdout"
        }
      ]
    },
    {
      "cell_type": "markdown",
      "metadata": {
        "id": "uLET4JaQxpAo"
      },
      "source": [
        "**shape** retorna o número de elementos em cada ordem do objeto"
      ]
    },
    {
      "cell_type": "code",
      "metadata": {
        "colab": {
          "base_uri": "https://localhost:8080/"
        },
        "id": "3CfjiiNXxp2Q",
        "outputId": "ff9367f1-7f9a-4237-ea54-16771f8e9f6a"
      },
      "source": [
        "print('vetor:', vetor.shape)\n",
        "print('matriz:', matriz.shape)\n",
        "print('tensor:', tensor.shape)"
      ],
      "execution_count": null,
      "outputs": [
        {
          "output_type": "stream",
          "text": [
            "vetor: (9,)\n",
            "matriz: (3, 3)\n",
            "tensor: (3, 2, 2)\n"
          ],
          "name": "stdout"
        }
      ]
    },
    {
      "cell_type": "markdown",
      "metadata": {
        "id": "kqW87Linxz8e"
      },
      "source": [
        "**size** retorna o número de elementos considerando todas as ordens"
      ]
    },
    {
      "cell_type": "code",
      "metadata": {
        "colab": {
          "base_uri": "https://localhost:8080/"
        },
        "id": "-wpqAbHzx1Ej",
        "outputId": "e3ef4e06-f30c-4139-fa76-95797701cdbb"
      },
      "source": [
        "print('vetor:', vetor.size)\n",
        "print('matriz:', matriz.size)\n",
        "print('tensor:', tensor.size)"
      ],
      "execution_count": null,
      "outputs": [
        {
          "output_type": "stream",
          "text": [
            "vetor: 9\n",
            "matriz: 9\n",
            "tensor: 12\n"
          ],
          "name": "stdout"
        }
      ]
    },
    {
      "cell_type": "markdown",
      "metadata": {
        "id": "KQrkEXC2yG6y"
      },
      "source": [
        "**zeros(n)** permite criar um vetor nulo de shape n"
      ]
    },
    {
      "cell_type": "code",
      "metadata": {
        "colab": {
          "base_uri": "https://localhost:8080/"
        },
        "id": "FX_kN5WJyHny",
        "outputId": "507c47ba-fa3b-4cfa-d50c-0efe8b2f9a9f"
      },
      "source": [
        "vetor = np.zeros(3)\n",
        "print('vetor:', vetor)\n",
        "matriz = np.zeros([3,3])\n",
        "print('matriz:', matriz)\n",
        "tensor = np.zeros([4,3,2])\n",
        "print('tensor:', tensor)"
      ],
      "execution_count": null,
      "outputs": [
        {
          "output_type": "stream",
          "text": [
            "vetor: [0. 0. 0.]\n",
            "matriz: [[0. 0. 0.]\n",
            " [0. 0. 0.]\n",
            " [0. 0. 0.]]\n",
            "tensor: [[[0. 0.]\n",
            "  [0. 0.]\n",
            "  [0. 0.]]\n",
            "\n",
            " [[0. 0.]\n",
            "  [0. 0.]\n",
            "  [0. 0.]]\n",
            "\n",
            " [[0. 0.]\n",
            "  [0. 0.]\n",
            "  [0. 0.]]\n",
            "\n",
            " [[0. 0.]\n",
            "  [0. 0.]\n",
            "  [0. 0.]]]\n"
          ],
          "name": "stdout"
        }
      ]
    },
    {
      "cell_type": "markdown",
      "metadata": {
        "id": "Z3b-1Qxmyf0m"
      },
      "source": [
        "**full()** preenche os elementos na criação do array"
      ]
    },
    {
      "cell_type": "code",
      "metadata": {
        "colab": {
          "base_uri": "https://localhost:8080/"
        },
        "id": "Z94pWnnQyjCg",
        "outputId": "efeed7c0-c652-4e32-8a58-bf01ef0c29c9"
      },
      "source": [
        "\n",
        "vetor = np.full((1,9), 1)\n",
        "print('vetor:', vetor)\n",
        "matriz = np.full((3,3), 1)\n",
        "print('matriz:', matriz)\n",
        "tensor = np.full((5,4,3,2), 1)\n",
        "print('tensor:', tensor)"
      ],
      "execution_count": null,
      "outputs": [
        {
          "output_type": "stream",
          "text": [
            "vetor: [[1 1 1 1 1 1 1 1 1]]\n",
            "matriz: [[1 1 1]\n",
            " [1 1 1]\n",
            " [1 1 1]]\n",
            "tensor: [[[[1 1]\n",
            "   [1 1]\n",
            "   [1 1]]\n",
            "\n",
            "  [[1 1]\n",
            "   [1 1]\n",
            "   [1 1]]\n",
            "\n",
            "  [[1 1]\n",
            "   [1 1]\n",
            "   [1 1]]\n",
            "\n",
            "  [[1 1]\n",
            "   [1 1]\n",
            "   [1 1]]]\n",
            "\n",
            "\n",
            " [[[1 1]\n",
            "   [1 1]\n",
            "   [1 1]]\n",
            "\n",
            "  [[1 1]\n",
            "   [1 1]\n",
            "   [1 1]]\n",
            "\n",
            "  [[1 1]\n",
            "   [1 1]\n",
            "   [1 1]]\n",
            "\n",
            "  [[1 1]\n",
            "   [1 1]\n",
            "   [1 1]]]\n",
            "\n",
            "\n",
            " [[[1 1]\n",
            "   [1 1]\n",
            "   [1 1]]\n",
            "\n",
            "  [[1 1]\n",
            "   [1 1]\n",
            "   [1 1]]\n",
            "\n",
            "  [[1 1]\n",
            "   [1 1]\n",
            "   [1 1]]\n",
            "\n",
            "  [[1 1]\n",
            "   [1 1]\n",
            "   [1 1]]]\n",
            "\n",
            "\n",
            " [[[1 1]\n",
            "   [1 1]\n",
            "   [1 1]]\n",
            "\n",
            "  [[1 1]\n",
            "   [1 1]\n",
            "   [1 1]]\n",
            "\n",
            "  [[1 1]\n",
            "   [1 1]\n",
            "   [1 1]]\n",
            "\n",
            "  [[1 1]\n",
            "   [1 1]\n",
            "   [1 1]]]\n",
            "\n",
            "\n",
            " [[[1 1]\n",
            "   [1 1]\n",
            "   [1 1]]\n",
            "\n",
            "  [[1 1]\n",
            "   [1 1]\n",
            "   [1 1]]\n",
            "\n",
            "  [[1 1]\n",
            "   [1 1]\n",
            "   [1 1]]\n",
            "\n",
            "  [[1 1]\n",
            "   [1 1]\n",
            "   [1 1]]]]\n"
          ],
          "name": "stdout"
        }
      ]
    },
    {
      "cell_type": "markdown",
      "metadata": {
        "id": "sLxzyfrJyvrK"
      },
      "source": [
        "**diag** permite criar uma matriz com a diagonal preenchida"
      ]
    },
    {
      "cell_type": "code",
      "metadata": {
        "colab": {
          "base_uri": "https://localhost:8080/"
        },
        "id": "yZH3k8V7yxYv",
        "outputId": "6051b6c9-e495-428d-eb24-56aa7b6726ba"
      },
      "source": [
        "matriz = np.diag([1,2,3,4,5])\n",
        "print(matriz)\n",
        "matriz_identidade = np.diag([1,1,1,1,1])\n",
        "print(matriz_identidade)\n",
        "matriz_identidade2 = np.eye(5)\n",
        "print(matriz_identidade2)"
      ],
      "execution_count": null,
      "outputs": [
        {
          "output_type": "stream",
          "text": [
            "[[1 0 0 0 0]\n",
            " [0 2 0 0 0]\n",
            " [0 0 3 0 0]\n",
            " [0 0 0 4 0]\n",
            " [0 0 0 0 5]]\n",
            "[[1 0 0 0 0]\n",
            " [0 1 0 0 0]\n",
            " [0 0 1 0 0]\n",
            " [0 0 0 1 0]\n",
            " [0 0 0 0 1]]\n",
            "[[1. 0. 0. 0. 0.]\n",
            " [0. 1. 0. 0. 0.]\n",
            " [0. 0. 1. 0. 0.]\n",
            " [0. 0. 0. 1. 0.]\n",
            " [0. 0. 0. 0. 1.]]\n"
          ],
          "name": "stdout"
        }
      ]
    },
    {
      "cell_type": "markdown",
      "metadata": {
        "id": "B-p87p9IzHBa"
      },
      "source": [
        "**random** permite criar arrays com números aleatórios"
      ]
    },
    {
      "cell_type": "code",
      "metadata": {
        "id": "wMn5YCjjzKKO",
        "colab": {
          "base_uri": "https://localhost:8080/"
        },
        "outputId": "d7f49f62-407c-47ac-d442-2483f1e75afd"
      },
      "source": [
        "from numpy import random as rd\n",
        "matriz = rd.rand(4,3)\n",
        "matriz"
      ],
      "execution_count": null,
      "outputs": [
        {
          "output_type": "execute_result",
          "data": {
            "text/plain": [
              "array([[0.42202442, 0.23335995, 0.60727925],\n",
              "       [0.45372089, 0.2810385 , 0.36409283],\n",
              "       [0.96329812, 0.07179998, 0.432564  ],\n",
              "       [0.25081133, 0.75043167, 0.80025827]])"
            ]
          },
          "metadata": {
            "tags": []
          },
          "execution_count": 37
        }
      ]
    },
    {
      "cell_type": "markdown",
      "metadata": {
        "id": "TWiR3qR8zYP1"
      },
      "source": [
        "**randn** permite criar uma matriz a partir de uma distruibição normal padrão de valores em seus elementos"
      ]
    },
    {
      "cell_type": "code",
      "metadata": {
        "colab": {
          "base_uri": "https://localhost:8080/"
        },
        "id": "hte3SQbQzZH2",
        "outputId": "07f3370e-1b96-4938-bb5d-3c47b1203dab"
      },
      "source": [
        "matriz = rd.randn(4,3)\n",
        "matriz"
      ],
      "execution_count": null,
      "outputs": [
        {
          "output_type": "execute_result",
          "data": {
            "text/plain": [
              "array([[-1.40799812, -0.93786597, -1.78218501],\n",
              "       [ 0.0358687 , -1.20233493,  1.08749375],\n",
              "       [ 0.26931138, -1.71689905, -1.50836106],\n",
              "       [-1.33091   , -0.78260533, -0.03483415]])"
            ]
          },
          "metadata": {
            "tags": []
          },
          "execution_count": 38
        }
      ]
    },
    {
      "cell_type": "markdown",
      "metadata": {
        "id": "U8r8bpAzzdbm"
      },
      "source": [
        "**randint** retorna valores inteiros dentro de uma faixa preestabelecida"
      ]
    },
    {
      "cell_type": "code",
      "metadata": {
        "colab": {
          "base_uri": "https://localhost:8080/"
        },
        "id": "V9gOKVANzfhL",
        "outputId": "bcd74c34-bb92-4f46-a4b3-107c9a803ca0"
      },
      "source": [
        "matriz = rd.randint(0, 10, (2,3,4))\n",
        "matriz"
      ],
      "execution_count": null,
      "outputs": [
        {
          "output_type": "execute_result",
          "data": {
            "text/plain": [
              "array([[[8, 3, 9, 7],\n",
              "        [2, 0, 4, 1],\n",
              "        [4, 8, 4, 4]],\n",
              "\n",
              "       [[9, 3, 4, 2],\n",
              "        [2, 9, 2, 3],\n",
              "        [8, 7, 3, 2]]])"
            ]
          },
          "metadata": {
            "tags": []
          },
          "execution_count": 39
        }
      ]
    },
    {
      "cell_type": "markdown",
      "metadata": {
        "id": "tCwurSubzkzy"
      },
      "source": [
        "**Matemática** Numpy pode ser utilizado para operar cálculos matemáticos com tensores"
      ]
    },
    {
      "cell_type": "code",
      "metadata": {
        "colab": {
          "base_uri": "https://localhost:8080/"
        },
        "id": "1wjqfD0tzzG-",
        "outputId": "f24905a9-6173-4862-fc03-6054a2f114db"
      },
      "source": [
        "vetor1 = np.array([0,1,2,3,4])\n",
        "vetor2 = np.array([1,2,3,4,5])\n",
        "matriz1 = np.array([[0,1,2],[3,4,5],[6,7,9]])\n",
        "matriz2 = np.array([[1,1,1],[2,2,2],[3,3,3]])\n",
        "print('soma de vetores:', vetor1 + vetor2)\n",
        "print('soma de matrizes:', matriz1 + matriz2)\n",
        "print('vetor1 * 2:', vetor1 * 2)\n",
        "print('multiplicação de vetores:', vetor1 * vetor2)\n",
        "print('multiplicação de matrizes:', matriz1 * matriz2)\n",
        "print('produto interno entre vetores:', np.dot(vetor1, vetor2))\n",
        "print('produto interno entre matrizes:', np.dot(matriz1, matriz2))\n",
        "print('comparação de tensores:', vetor1 < vetor2)\n",
        "print('comparação de tensores:', vetor1 > vetor2)"
      ],
      "execution_count": null,
      "outputs": [
        {
          "output_type": "stream",
          "text": [
            "soma de vetores: [1 3 5 7 9]\n",
            "soma de matrizes: [[ 1  2  3]\n",
            " [ 5  6  7]\n",
            " [ 9 10 12]]\n",
            "vetor1 * 2: [0 2 4 6 8]\n",
            "multiplicação de vetores: [ 0  2  6 12 20]\n",
            "multiplicação de matrizes: [[ 0  1  2]\n",
            " [ 6  8 10]\n",
            " [18 21 27]]\n",
            "produto interno entre vetores: 40\n",
            "produto interno entre matrizes: [[ 8  8  8]\n",
            " [26 26 26]\n",
            " [47 47 47]]\n",
            "comparação de tensores: [ True  True  True  True  True]\n",
            "comparação de tensores: [False False False False False]\n"
          ],
          "name": "stdout"
        }
      ]
    },
    {
      "cell_type": "markdown",
      "metadata": {
        "id": "LWsgH-em0snh"
      },
      "source": [
        "**Funções** o Numpy fornece funções matemáticas que podem ser aplicadas tanto em escalares quanto em tensores"
      ]
    },
    {
      "cell_type": "code",
      "metadata": {
        "colab": {
          "base_uri": "https://localhost:8080/"
        },
        "id": "LmTWfU5j0uQQ",
        "outputId": "ecd3fc1d-8470-46dc-826b-bc8fdb22fc8e"
      },
      "source": [
        "print(np.exp(1))\n",
        "print(np.exp(vetor1))\n",
        "print(np.exp(matriz1))\n",
        "print(np.sin(1))\n",
        "print(np.sin(vetor1))\n",
        "print(np.sin(matriz1))\n",
        "print(np.cos(1))\n",
        "print(np.cos(vetor1))\n",
        "print(np.cos(matriz1))\n",
        "print(np.tan(1))\n",
        "print(np.tan(vetor1))\n",
        "print(np.tan(matriz1))\n",
        "print(np.mean(vetor1))\n",
        "print(np.mean(matriz1))\n",
        "print(np.std(vetor1))\n",
        "print(np.std(matriz1))"
      ],
      "execution_count": null,
      "outputs": [
        {
          "output_type": "stream",
          "text": [
            "2.718281828459045\n",
            "[ 1.          2.71828183  7.3890561  20.08553692 54.59815003]\n",
            "[[1.00000000e+00 2.71828183e+00 7.38905610e+00]\n",
            " [2.00855369e+01 5.45981500e+01 1.48413159e+02]\n",
            " [4.03428793e+02 1.09663316e+03 8.10308393e+03]]\n",
            "0.8414709848078965\n",
            "[ 0.          0.84147098  0.90929743  0.14112001 -0.7568025 ]\n",
            "[[ 0.          0.84147098  0.90929743]\n",
            " [ 0.14112001 -0.7568025  -0.95892427]\n",
            " [-0.2794155   0.6569866   0.41211849]]\n",
            "0.5403023058681398\n",
            "[ 1.          0.54030231 -0.41614684 -0.9899925  -0.65364362]\n",
            "[[ 1.          0.54030231 -0.41614684]\n",
            " [-0.9899925  -0.65364362  0.28366219]\n",
            " [ 0.96017029  0.75390225 -0.91113026]]\n",
            "1.5574077246549023\n",
            "[ 0.          1.55740772 -2.18503986 -0.14254654  1.15782128]\n",
            "[[ 0.          1.55740772 -2.18503986]\n",
            " [-0.14254654  1.15782128 -3.38051501]\n",
            " [-0.29100619  0.87144798 -0.45231566]]\n",
            "2.0\n",
            "4.111111111111111\n",
            "1.4142135623730951\n",
            "2.7666443551086073\n"
          ],
          "name": "stdout"
        }
      ]
    },
    {
      "cell_type": "markdown",
      "metadata": {
        "id": "kAFt6XwX1O2X"
      },
      "source": [
        "**ravel** transforma matrizes em vetores"
      ]
    },
    {
      "cell_type": "code",
      "metadata": {
        "colab": {
          "base_uri": "https://localhost:8080/"
        },
        "id": "NlXembn71P2i",
        "outputId": "a804fa28-fff8-49d0-d20b-43f565acc2ef"
      },
      "source": [
        "print('matriz:', matriz)\n",
        "print('vetor:', matriz.ravel())"
      ],
      "execution_count": null,
      "outputs": [
        {
          "output_type": "stream",
          "text": [
            "matriz: [[[8 3 9 7]\n",
            "  [2 0 4 1]\n",
            "  [4 8 4 4]]\n",
            "\n",
            " [[9 3 4 2]\n",
            "  [2 9 2 3]\n",
            "  [8 7 3 2]]]\n",
            "vetor: [8 3 9 7 2 0 4 1 4 8 4 4 9 3 4 2 2 9 2 3 8 7 3 2]\n"
          ],
          "name": "stdout"
        }
      ]
    },
    {
      "cell_type": "markdown",
      "metadata": {
        "id": "3iuikFFJ1SEL"
      },
      "source": [
        "**Linhas,Colunas** é possível mudar a quantidade de linhas e colunas em uma matriz, respeitando a quantidade de elementos da matriz"
      ]
    },
    {
      "cell_type": "code",
      "metadata": {
        "colab": {
          "base_uri": "https://localhost:8080/"
        },
        "id": "i3-Mapvl1UKC",
        "outputId": "3464114b-8ff7-49ea-b39c-19068a039915"
      },
      "source": [
        "print('size:', matriz.size)\n",
        "print('matriz.shape = (24,1):')\n",
        "matriz.shape = (24,1)\n",
        "print(matriz)\n",
        "print('matriz.shape = (3,8):')\n",
        "matriz.shape = (3,8)\n",
        "print(matriz)"
      ],
      "execution_count": null,
      "outputs": [
        {
          "output_type": "stream",
          "text": [
            "size: 24\n",
            "matriz.shape = (24,1):\n",
            "[[8]\n",
            " [3]\n",
            " [9]\n",
            " [7]\n",
            " [2]\n",
            " [0]\n",
            " [4]\n",
            " [1]\n",
            " [4]\n",
            " [8]\n",
            " [4]\n",
            " [4]\n",
            " [9]\n",
            " [3]\n",
            " [4]\n",
            " [2]\n",
            " [2]\n",
            " [9]\n",
            " [2]\n",
            " [3]\n",
            " [8]\n",
            " [7]\n",
            " [3]\n",
            " [2]]\n",
            "matriz.shape = (3,8):\n",
            "[[8 3 9 7 2 0 4 1]\n",
            " [4 8 4 4 9 3 4 2]\n",
            " [2 9 2 3 8 7 3 2]]\n"
          ],
          "name": "stdout"
        }
      ]
    },
    {
      "cell_type": "markdown",
      "metadata": {
        "id": "w7bJNskR1ekg"
      },
      "source": [
        "**transpose** transpor uma matriz trocando linhas por colunas"
      ]
    },
    {
      "cell_type": "code",
      "metadata": {
        "colab": {
          "base_uri": "https://localhost:8080/"
        },
        "id": "8M2jhtIS1hKa",
        "outputId": "86490af6-7432-4b90-ea41-6b422a7c2c72"
      },
      "source": [
        "print(matriz)\n",
        "print(matriz.transpose())"
      ],
      "execution_count": null,
      "outputs": [
        {
          "output_type": "stream",
          "text": [
            "[[8 3 9 7 2 0 4 1]\n",
            " [4 8 4 4 9 3 4 2]\n",
            " [2 9 2 3 8 7 3 2]]\n",
            "[[8 4 2]\n",
            " [3 8 9]\n",
            " [9 4 2]\n",
            " [7 4 3]\n",
            " [2 9 8]\n",
            " [0 3 7]\n",
            " [4 4 3]\n",
            " [1 2 2]]\n"
          ],
          "name": "stdout"
        }
      ]
    },
    {
      "cell_type": "markdown",
      "metadata": {
        "id": "vIRULlMkto0B"
      },
      "source": [
        "**Pandas** biblioteca para manipulação de dados"
      ]
    },
    {
      "cell_type": "code",
      "metadata": {
        "id": "pRXdVR8JtqL3"
      },
      "source": [
        "import pandas as pd"
      ],
      "execution_count": null,
      "outputs": []
    },
    {
      "cell_type": "markdown",
      "metadata": {
        "id": "tl87U3Mpttfk"
      },
      "source": [
        "**dataframe** é equivalente a uma tabela de banco de dados e **read** realizar carga de dados dos mais diversos formatos"
      ]
    },
    {
      "cell_type": "code",
      "metadata": {
        "id": "xXgqV5zQtwdv"
      },
      "source": [
        "df = pd.read_excel('/content/potavel.xls')"
      ],
      "execution_count": null,
      "outputs": []
    },
    {
      "cell_type": "markdown",
      "metadata": {
        "id": "SvmDVq328dYC"
      },
      "source": [
        "**head(n)** para obter uma amostra das (n) primeiras linhas do df"
      ]
    },
    {
      "cell_type": "code",
      "metadata": {
        "colab": {
          "base_uri": "https://localhost:8080/",
          "height": 141
        },
        "id": "VkcgsVnR8eSD",
        "outputId": "8397526b-a58e-47a9-e3a1-f64a59679215"
      },
      "source": [
        "df.head(3)"
      ],
      "execution_count": null,
      "outputs": [
        {
          "output_type": "execute_result",
          "data": {
            "text/html": [
              "<div>\n",
              "<style scoped>\n",
              "    .dataframe tbody tr th:only-of-type {\n",
              "        vertical-align: middle;\n",
              "    }\n",
              "\n",
              "    .dataframe tbody tr th {\n",
              "        vertical-align: top;\n",
              "    }\n",
              "\n",
              "    .dataframe thead th {\n",
              "        text-align: right;\n",
              "    }\n",
              "</style>\n",
              "<table border=\"1\" class=\"dataframe\">\n",
              "  <thead>\n",
              "    <tr style=\"text-align: right;\">\n",
              "      <th></th>\n",
              "      <th>Potavel</th>\n",
              "      <th>pH</th>\n",
              "      <th>Densidade</th>\n",
              "      <th>Solidos</th>\n",
              "      <th>Cloraminas</th>\n",
              "      <th>Sulfato</th>\n",
              "      <th>Condutividade</th>\n",
              "      <th>MateriaOrganica</th>\n",
              "      <th>Trihalometanos</th>\n",
              "      <th>Turbidez</th>\n",
              "    </tr>\n",
              "  </thead>\n",
              "  <tbody>\n",
              "    <tr>\n",
              "      <th>0</th>\n",
              "      <td>0</td>\n",
              "      <td>NaN</td>\n",
              "      <td>204.890456</td>\n",
              "      <td>20791.31898</td>\n",
              "      <td>7.300212</td>\n",
              "      <td>368.516441</td>\n",
              "      <td>564.308654</td>\n",
              "      <td>10.379783</td>\n",
              "      <td>86.990970</td>\n",
              "      <td>2.963135</td>\n",
              "    </tr>\n",
              "    <tr>\n",
              "      <th>1</th>\n",
              "      <td>0</td>\n",
              "      <td>3.716080</td>\n",
              "      <td>129.422921</td>\n",
              "      <td>18630.05786</td>\n",
              "      <td>6.635246</td>\n",
              "      <td>NaN</td>\n",
              "      <td>592.885359</td>\n",
              "      <td>15.180013</td>\n",
              "      <td>56.329076</td>\n",
              "      <td>4.500656</td>\n",
              "    </tr>\n",
              "    <tr>\n",
              "      <th>2</th>\n",
              "      <td>0</td>\n",
              "      <td>8.099124</td>\n",
              "      <td>224.236259</td>\n",
              "      <td>19909.54173</td>\n",
              "      <td>9.275884</td>\n",
              "      <td>NaN</td>\n",
              "      <td>418.606213</td>\n",
              "      <td>16.868637</td>\n",
              "      <td>66.420093</td>\n",
              "      <td>3.055934</td>\n",
              "    </tr>\n",
              "  </tbody>\n",
              "</table>\n",
              "</div>"
            ],
            "text/plain": [
              "   Potavel        pH   Densidade  ...  MateriaOrganica  Trihalometanos  Turbidez\n",
              "0        0       NaN  204.890456  ...        10.379783       86.990970  2.963135\n",
              "1        0  3.716080  129.422921  ...        15.180013       56.329076  4.500656\n",
              "2        0  8.099124  224.236259  ...        16.868637       66.420093  3.055934\n",
              "\n",
              "[3 rows x 10 columns]"
            ]
          },
          "metadata": {
            "tags": []
          },
          "execution_count": 5
        }
      ]
    },
    {
      "cell_type": "markdown",
      "metadata": {
        "id": "ea522fRZ9aea"
      },
      "source": [
        "**tail(n)** para obter uma amostra das (n) últimas linhas do df"
      ]
    },
    {
      "cell_type": "code",
      "metadata": {
        "colab": {
          "base_uri": "https://localhost:8080/",
          "height": 141
        },
        "id": "_PA3wvIs9cXe",
        "outputId": "a1556457-19a7-4dc4-9d42-b8c1a6246b89"
      },
      "source": [
        "df.tail(3)"
      ],
      "execution_count": null,
      "outputs": [
        {
          "output_type": "execute_result",
          "data": {
            "text/html": [
              "<div>\n",
              "<style scoped>\n",
              "    .dataframe tbody tr th:only-of-type {\n",
              "        vertical-align: middle;\n",
              "    }\n",
              "\n",
              "    .dataframe tbody tr th {\n",
              "        vertical-align: top;\n",
              "    }\n",
              "\n",
              "    .dataframe thead th {\n",
              "        text-align: right;\n",
              "    }\n",
              "</style>\n",
              "<table border=\"1\" class=\"dataframe\">\n",
              "  <thead>\n",
              "    <tr style=\"text-align: right;\">\n",
              "      <th></th>\n",
              "      <th>Potavel</th>\n",
              "      <th>pH</th>\n",
              "      <th>Densidade</th>\n",
              "      <th>Solidos</th>\n",
              "      <th>Cloraminas</th>\n",
              "      <th>Sulfato</th>\n",
              "      <th>Condutividade</th>\n",
              "      <th>MateriaOrganica</th>\n",
              "      <th>Trihalometanos</th>\n",
              "      <th>Turbidez</th>\n",
              "    </tr>\n",
              "  </thead>\n",
              "  <tbody>\n",
              "    <tr>\n",
              "      <th>3273</th>\n",
              "      <td>1</td>\n",
              "      <td>9.419510</td>\n",
              "      <td>175.762646</td>\n",
              "      <td>33155.57822</td>\n",
              "      <td>7.350233</td>\n",
              "      <td>NaN</td>\n",
              "      <td>432.044783</td>\n",
              "      <td>11.039070</td>\n",
              "      <td>69.845400</td>\n",
              "      <td>3.298875</td>\n",
              "    </tr>\n",
              "    <tr>\n",
              "      <th>3274</th>\n",
              "      <td>1</td>\n",
              "      <td>5.126763</td>\n",
              "      <td>230.603758</td>\n",
              "      <td>11983.86938</td>\n",
              "      <td>6.303357</td>\n",
              "      <td>NaN</td>\n",
              "      <td>402.883113</td>\n",
              "      <td>11.168946</td>\n",
              "      <td>77.488213</td>\n",
              "      <td>4.708658</td>\n",
              "    </tr>\n",
              "    <tr>\n",
              "      <th>3275</th>\n",
              "      <td>1</td>\n",
              "      <td>7.874671</td>\n",
              "      <td>195.102299</td>\n",
              "      <td>17404.17706</td>\n",
              "      <td>7.509306</td>\n",
              "      <td>NaN</td>\n",
              "      <td>327.459761</td>\n",
              "      <td>16.140368</td>\n",
              "      <td>78.698446</td>\n",
              "      <td>2.309149</td>\n",
              "    </tr>\n",
              "  </tbody>\n",
              "</table>\n",
              "</div>"
            ],
            "text/plain": [
              "      Potavel        pH   Densidade  ...  MateriaOrganica  Trihalometanos  Turbidez\n",
              "3273        1  9.419510  175.762646  ...        11.039070       69.845400  3.298875\n",
              "3274        1  5.126763  230.603758  ...        11.168946       77.488213  4.708658\n",
              "3275        1  7.874671  195.102299  ...        16.140368       78.698446  2.309149\n",
              "\n",
              "[3 rows x 10 columns]"
            ]
          },
          "metadata": {
            "tags": []
          },
          "execution_count": 52
        }
      ]
    },
    {
      "cell_type": "markdown",
      "metadata": {
        "id": "N_w213Yy9ka9"
      },
      "source": [
        "**NaN** significa Not a Number"
      ]
    },
    {
      "cell_type": "code",
      "metadata": {
        "colab": {
          "base_uri": "https://localhost:8080/"
        },
        "id": "2rRxLN9J9tfX",
        "outputId": "85bb32f0-3dfc-4a45-e287-6fc5e06cdfff"
      },
      "source": [
        "df['Sulfato'].notnull()"
      ],
      "execution_count": null,
      "outputs": [
        {
          "output_type": "execute_result",
          "data": {
            "text/plain": [
              "0        True\n",
              "1       False\n",
              "2       False\n",
              "3        True\n",
              "4        True\n",
              "        ...  \n",
              "3271     True\n",
              "3272    False\n",
              "3273    False\n",
              "3274    False\n",
              "3275    False\n",
              "Name: Sulfato, Length: 3276, dtype: bool"
            ]
          },
          "metadata": {
            "tags": []
          },
          "execution_count": 53
        }
      ]
    },
    {
      "cell_type": "markdown",
      "metadata": {
        "id": "L_f1RwO1-DWp"
      },
      "source": [
        "**Séries** as colunas de um df são desse tipo e podem ter elementos acessados por índices"
      ]
    },
    {
      "cell_type": "code",
      "metadata": {
        "colab": {
          "base_uri": "https://localhost:8080/"
        },
        "id": "8XjEImfQ-EX7",
        "outputId": "14d9c8b1-a46f-4f5b-9cc1-7bb53da88ea4"
      },
      "source": [
        "df['Sulfato'][0]"
      ],
      "execution_count": null,
      "outputs": [
        {
          "output_type": "execute_result",
          "data": {
            "text/plain": [
              "368.5164413"
            ]
          },
          "metadata": {
            "tags": []
          },
          "execution_count": 54
        }
      ]
    },
    {
      "cell_type": "markdown",
      "metadata": {
        "id": "PlOFA9pR-TQZ"
      },
      "source": [
        "**fillna** pode ser usado para preencher valores vazios"
      ]
    },
    {
      "cell_type": "code",
      "metadata": {
        "colab": {
          "base_uri": "https://localhost:8080/",
          "height": 355
        },
        "id": "tMSvkDTX-Uip",
        "outputId": "20395f77-199e-4b35-c102-2b9e0b239ca4"
      },
      "source": [
        "df['Sulfato'] = df['Sulfato'].fillna(0, inplace=True)\n",
        "df.head(10)"
      ],
      "execution_count": null,
      "outputs": [
        {
          "output_type": "execute_result",
          "data": {
            "text/html": [
              "<div>\n",
              "<style scoped>\n",
              "    .dataframe tbody tr th:only-of-type {\n",
              "        vertical-align: middle;\n",
              "    }\n",
              "\n",
              "    .dataframe tbody tr th {\n",
              "        vertical-align: top;\n",
              "    }\n",
              "\n",
              "    .dataframe thead th {\n",
              "        text-align: right;\n",
              "    }\n",
              "</style>\n",
              "<table border=\"1\" class=\"dataframe\">\n",
              "  <thead>\n",
              "    <tr style=\"text-align: right;\">\n",
              "      <th></th>\n",
              "      <th>Potavel</th>\n",
              "      <th>pH</th>\n",
              "      <th>Densidade</th>\n",
              "      <th>Solidos</th>\n",
              "      <th>Cloraminas</th>\n",
              "      <th>Sulfato</th>\n",
              "      <th>Condutividade</th>\n",
              "      <th>MateriaOrganica</th>\n",
              "      <th>Trihalometanos</th>\n",
              "      <th>Turbidez</th>\n",
              "    </tr>\n",
              "  </thead>\n",
              "  <tbody>\n",
              "    <tr>\n",
              "      <th>0</th>\n",
              "      <td>0</td>\n",
              "      <td>NaN</td>\n",
              "      <td>204.890456</td>\n",
              "      <td>20791.31898</td>\n",
              "      <td>7.300212</td>\n",
              "      <td>None</td>\n",
              "      <td>564.308654</td>\n",
              "      <td>10.379783</td>\n",
              "      <td>86.990970</td>\n",
              "      <td>2.963135</td>\n",
              "    </tr>\n",
              "    <tr>\n",
              "      <th>1</th>\n",
              "      <td>0</td>\n",
              "      <td>3.716080</td>\n",
              "      <td>129.422921</td>\n",
              "      <td>18630.05786</td>\n",
              "      <td>6.635246</td>\n",
              "      <td>None</td>\n",
              "      <td>592.885359</td>\n",
              "      <td>15.180013</td>\n",
              "      <td>56.329076</td>\n",
              "      <td>4.500656</td>\n",
              "    </tr>\n",
              "    <tr>\n",
              "      <th>2</th>\n",
              "      <td>0</td>\n",
              "      <td>8.099124</td>\n",
              "      <td>224.236259</td>\n",
              "      <td>19909.54173</td>\n",
              "      <td>9.275884</td>\n",
              "      <td>None</td>\n",
              "      <td>418.606213</td>\n",
              "      <td>16.868637</td>\n",
              "      <td>66.420093</td>\n",
              "      <td>3.055934</td>\n",
              "    </tr>\n",
              "    <tr>\n",
              "      <th>3</th>\n",
              "      <td>0</td>\n",
              "      <td>8.316766</td>\n",
              "      <td>214.373394</td>\n",
              "      <td>22018.41744</td>\n",
              "      <td>8.059332</td>\n",
              "      <td>None</td>\n",
              "      <td>363.266516</td>\n",
              "      <td>18.436525</td>\n",
              "      <td>100.341674</td>\n",
              "      <td>4.628771</td>\n",
              "    </tr>\n",
              "    <tr>\n",
              "      <th>4</th>\n",
              "      <td>0</td>\n",
              "      <td>9.092223</td>\n",
              "      <td>181.101509</td>\n",
              "      <td>17978.98634</td>\n",
              "      <td>6.546600</td>\n",
              "      <td>None</td>\n",
              "      <td>398.410813</td>\n",
              "      <td>11.558279</td>\n",
              "      <td>31.997993</td>\n",
              "      <td>4.075075</td>\n",
              "    </tr>\n",
              "    <tr>\n",
              "      <th>5</th>\n",
              "      <td>0</td>\n",
              "      <td>5.584087</td>\n",
              "      <td>188.313324</td>\n",
              "      <td>28748.68774</td>\n",
              "      <td>7.544869</td>\n",
              "      <td>None</td>\n",
              "      <td>280.467916</td>\n",
              "      <td>8.399735</td>\n",
              "      <td>54.917862</td>\n",
              "      <td>2.559708</td>\n",
              "    </tr>\n",
              "    <tr>\n",
              "      <th>6</th>\n",
              "      <td>0</td>\n",
              "      <td>10.223862</td>\n",
              "      <td>248.071735</td>\n",
              "      <td>28749.71654</td>\n",
              "      <td>7.513408</td>\n",
              "      <td>None</td>\n",
              "      <td>283.651634</td>\n",
              "      <td>13.789695</td>\n",
              "      <td>84.603556</td>\n",
              "      <td>2.672989</td>\n",
              "    </tr>\n",
              "    <tr>\n",
              "      <th>7</th>\n",
              "      <td>0</td>\n",
              "      <td>8.635849</td>\n",
              "      <td>203.361523</td>\n",
              "      <td>13672.09176</td>\n",
              "      <td>4.563009</td>\n",
              "      <td>None</td>\n",
              "      <td>474.607645</td>\n",
              "      <td>12.363817</td>\n",
              "      <td>62.798309</td>\n",
              "      <td>4.401425</td>\n",
              "    </tr>\n",
              "    <tr>\n",
              "      <th>8</th>\n",
              "      <td>0</td>\n",
              "      <td>NaN</td>\n",
              "      <td>118.988579</td>\n",
              "      <td>14285.58385</td>\n",
              "      <td>7.804174</td>\n",
              "      <td>None</td>\n",
              "      <td>389.375566</td>\n",
              "      <td>12.706049</td>\n",
              "      <td>53.928846</td>\n",
              "      <td>3.595017</td>\n",
              "    </tr>\n",
              "    <tr>\n",
              "      <th>9</th>\n",
              "      <td>0</td>\n",
              "      <td>11.180284</td>\n",
              "      <td>227.231469</td>\n",
              "      <td>25484.50849</td>\n",
              "      <td>9.077200</td>\n",
              "      <td>None</td>\n",
              "      <td>563.885481</td>\n",
              "      <td>17.927806</td>\n",
              "      <td>71.976601</td>\n",
              "      <td>4.370562</td>\n",
              "    </tr>\n",
              "  </tbody>\n",
              "</table>\n",
              "</div>"
            ],
            "text/plain": [
              "   Potavel         pH   Densidade  ...  MateriaOrganica  Trihalometanos  Turbidez\n",
              "0        0        NaN  204.890456  ...        10.379783       86.990970  2.963135\n",
              "1        0   3.716080  129.422921  ...        15.180013       56.329076  4.500656\n",
              "2        0   8.099124  224.236259  ...        16.868637       66.420093  3.055934\n",
              "3        0   8.316766  214.373394  ...        18.436525      100.341674  4.628771\n",
              "4        0   9.092223  181.101509  ...        11.558279       31.997993  4.075075\n",
              "5        0   5.584087  188.313324  ...         8.399735       54.917862  2.559708\n",
              "6        0  10.223862  248.071735  ...        13.789695       84.603556  2.672989\n",
              "7        0   8.635849  203.361523  ...        12.363817       62.798309  4.401425\n",
              "8        0        NaN  118.988579  ...        12.706049       53.928846  3.595017\n",
              "9        0  11.180284  227.231469  ...        17.927806       71.976601  4.370562\n",
              "\n",
              "[10 rows x 10 columns]"
            ]
          },
          "metadata": {
            "tags": []
          },
          "execution_count": 56
        }
      ]
    },
    {
      "cell_type": "markdown",
      "metadata": {
        "id": "3D1rJ_SIWEAF"
      },
      "source": [
        "Transforma em inteiros"
      ]
    },
    {
      "cell_type": "code",
      "metadata": {
        "colab": {
          "base_uri": "https://localhost:8080/",
          "height": 355
        },
        "id": "gY4Ou0JNWFAz",
        "outputId": "88e94a19-0390-4e37-ab0e-69eb41c390e3"
      },
      "source": [
        "df['Sulfato'] = 0\n",
        "df.head(10)"
      ],
      "execution_count": null,
      "outputs": [
        {
          "output_type": "execute_result",
          "data": {
            "text/html": [
              "<div>\n",
              "<style scoped>\n",
              "    .dataframe tbody tr th:only-of-type {\n",
              "        vertical-align: middle;\n",
              "    }\n",
              "\n",
              "    .dataframe tbody tr th {\n",
              "        vertical-align: top;\n",
              "    }\n",
              "\n",
              "    .dataframe thead th {\n",
              "        text-align: right;\n",
              "    }\n",
              "</style>\n",
              "<table border=\"1\" class=\"dataframe\">\n",
              "  <thead>\n",
              "    <tr style=\"text-align: right;\">\n",
              "      <th></th>\n",
              "      <th>Potavel</th>\n",
              "      <th>pH</th>\n",
              "      <th>Densidade</th>\n",
              "      <th>Solidos</th>\n",
              "      <th>Cloraminas</th>\n",
              "      <th>Sulfato</th>\n",
              "      <th>Condutividade</th>\n",
              "      <th>MateriaOrganica</th>\n",
              "      <th>Trihalometanos</th>\n",
              "      <th>Turbidez</th>\n",
              "    </tr>\n",
              "  </thead>\n",
              "  <tbody>\n",
              "    <tr>\n",
              "      <th>0</th>\n",
              "      <td>0</td>\n",
              "      <td>NaN</td>\n",
              "      <td>204.890456</td>\n",
              "      <td>20791.31898</td>\n",
              "      <td>7.300212</td>\n",
              "      <td>0</td>\n",
              "      <td>564.308654</td>\n",
              "      <td>10.379783</td>\n",
              "      <td>86.990970</td>\n",
              "      <td>2.963135</td>\n",
              "    </tr>\n",
              "    <tr>\n",
              "      <th>1</th>\n",
              "      <td>0</td>\n",
              "      <td>3.716080</td>\n",
              "      <td>129.422921</td>\n",
              "      <td>18630.05786</td>\n",
              "      <td>6.635246</td>\n",
              "      <td>0</td>\n",
              "      <td>592.885359</td>\n",
              "      <td>15.180013</td>\n",
              "      <td>56.329076</td>\n",
              "      <td>4.500656</td>\n",
              "    </tr>\n",
              "    <tr>\n",
              "      <th>2</th>\n",
              "      <td>0</td>\n",
              "      <td>8.099124</td>\n",
              "      <td>224.236259</td>\n",
              "      <td>19909.54173</td>\n",
              "      <td>9.275884</td>\n",
              "      <td>0</td>\n",
              "      <td>418.606213</td>\n",
              "      <td>16.868637</td>\n",
              "      <td>66.420093</td>\n",
              "      <td>3.055934</td>\n",
              "    </tr>\n",
              "    <tr>\n",
              "      <th>3</th>\n",
              "      <td>0</td>\n",
              "      <td>8.316766</td>\n",
              "      <td>214.373394</td>\n",
              "      <td>22018.41744</td>\n",
              "      <td>8.059332</td>\n",
              "      <td>0</td>\n",
              "      <td>363.266516</td>\n",
              "      <td>18.436525</td>\n",
              "      <td>100.341674</td>\n",
              "      <td>4.628771</td>\n",
              "    </tr>\n",
              "    <tr>\n",
              "      <th>4</th>\n",
              "      <td>0</td>\n",
              "      <td>9.092223</td>\n",
              "      <td>181.101509</td>\n",
              "      <td>17978.98634</td>\n",
              "      <td>6.546600</td>\n",
              "      <td>0</td>\n",
              "      <td>398.410813</td>\n",
              "      <td>11.558279</td>\n",
              "      <td>31.997993</td>\n",
              "      <td>4.075075</td>\n",
              "    </tr>\n",
              "    <tr>\n",
              "      <th>5</th>\n",
              "      <td>0</td>\n",
              "      <td>5.584087</td>\n",
              "      <td>188.313324</td>\n",
              "      <td>28748.68774</td>\n",
              "      <td>7.544869</td>\n",
              "      <td>0</td>\n",
              "      <td>280.467916</td>\n",
              "      <td>8.399735</td>\n",
              "      <td>54.917862</td>\n",
              "      <td>2.559708</td>\n",
              "    </tr>\n",
              "    <tr>\n",
              "      <th>6</th>\n",
              "      <td>0</td>\n",
              "      <td>10.223862</td>\n",
              "      <td>248.071735</td>\n",
              "      <td>28749.71654</td>\n",
              "      <td>7.513408</td>\n",
              "      <td>0</td>\n",
              "      <td>283.651634</td>\n",
              "      <td>13.789695</td>\n",
              "      <td>84.603556</td>\n",
              "      <td>2.672989</td>\n",
              "    </tr>\n",
              "    <tr>\n",
              "      <th>7</th>\n",
              "      <td>0</td>\n",
              "      <td>8.635849</td>\n",
              "      <td>203.361523</td>\n",
              "      <td>13672.09176</td>\n",
              "      <td>4.563009</td>\n",
              "      <td>0</td>\n",
              "      <td>474.607645</td>\n",
              "      <td>12.363817</td>\n",
              "      <td>62.798309</td>\n",
              "      <td>4.401425</td>\n",
              "    </tr>\n",
              "    <tr>\n",
              "      <th>8</th>\n",
              "      <td>0</td>\n",
              "      <td>NaN</td>\n",
              "      <td>118.988579</td>\n",
              "      <td>14285.58385</td>\n",
              "      <td>7.804174</td>\n",
              "      <td>0</td>\n",
              "      <td>389.375566</td>\n",
              "      <td>12.706049</td>\n",
              "      <td>53.928846</td>\n",
              "      <td>3.595017</td>\n",
              "    </tr>\n",
              "    <tr>\n",
              "      <th>9</th>\n",
              "      <td>0</td>\n",
              "      <td>11.180284</td>\n",
              "      <td>227.231469</td>\n",
              "      <td>25484.50849</td>\n",
              "      <td>9.077200</td>\n",
              "      <td>0</td>\n",
              "      <td>563.885481</td>\n",
              "      <td>17.927806</td>\n",
              "      <td>71.976601</td>\n",
              "      <td>4.370562</td>\n",
              "    </tr>\n",
              "  </tbody>\n",
              "</table>\n",
              "</div>"
            ],
            "text/plain": [
              "   Potavel         pH   Densidade  ...  MateriaOrganica  Trihalometanos  Turbidez\n",
              "0        0        NaN  204.890456  ...        10.379783       86.990970  2.963135\n",
              "1        0   3.716080  129.422921  ...        15.180013       56.329076  4.500656\n",
              "2        0   8.099124  224.236259  ...        16.868637       66.420093  3.055934\n",
              "3        0   8.316766  214.373394  ...        18.436525      100.341674  4.628771\n",
              "4        0   9.092223  181.101509  ...        11.558279       31.997993  4.075075\n",
              "5        0   5.584087  188.313324  ...         8.399735       54.917862  2.559708\n",
              "6        0  10.223862  248.071735  ...        13.789695       84.603556  2.672989\n",
              "7        0   8.635849  203.361523  ...        12.363817       62.798309  4.401425\n",
              "8        0        NaN  118.988579  ...        12.706049       53.928846  3.595017\n",
              "9        0  11.180284  227.231469  ...        17.927806       71.976601  4.370562\n",
              "\n",
              "[10 rows x 10 columns]"
            ]
          },
          "metadata": {
            "tags": []
          },
          "execution_count": 7
        }
      ]
    },
    {
      "cell_type": "markdown",
      "metadata": {
        "id": "VrhgKMbQ-0yj"
      },
      "source": [
        "**index** é o campo identificador do df"
      ]
    },
    {
      "cell_type": "code",
      "metadata": {
        "colab": {
          "base_uri": "https://localhost:8080/"
        },
        "id": "Vcx6Ofiz-3Wt",
        "outputId": "588133dd-1bcd-4b9c-9ad3-ebbcfd41262e"
      },
      "source": [
        "df.index"
      ],
      "execution_count": null,
      "outputs": [
        {
          "output_type": "execute_result",
          "data": {
            "text/plain": [
              "RangeIndex(start=0, stop=3276, step=1)"
            ]
          },
          "metadata": {
            "tags": []
          },
          "execution_count": 61
        }
      ]
    },
    {
      "cell_type": "markdown",
      "metadata": {
        "id": "eM1JZ7OG_RSr"
      },
      "source": [
        "**set_index** permite substituir o índice do conjunto de dados\n",
        "\n",
        "*Obs: Perceba o parâmetro inplace=True, por padrão o seu valor é False. Esse parâmetro é comum em muitas funçẽos do tipo DataFrame, indica que as alteraçẽos devem ser feitas no DataFrame atual e não em uma cópia. Por padrão o DataFrame é imutável, o que significa que alterações realizadas só terão efeito em uma cópia dele, mas podemos burlar isso em alguns casos com o método inplace*"
      ]
    },
    {
      "cell_type": "code",
      "metadata": {
        "id": "ijjD1bAi_Tft"
      },
      "source": [
        "df.set_index('id', inplace=True)"
      ],
      "execution_count": null,
      "outputs": []
    },
    {
      "cell_type": "markdown",
      "metadata": {
        "id": "yCOfmlxL_e3d"
      },
      "source": [
        "**função lambda** é uma função sem nome, definida em uma linha\n",
        "\n",
        "*Obs: quando um campo só tem dois valores possíveis e um valor indeterminado. É possível associar o valor ok a True, o valor nok a False e, assim, estaremos lidando com um campo booleano, o que faz muito mais sentido nesse caso*"
      ]
    },
    {
      "cell_type": "code",
      "metadata": {
        "id": "_ghb0J8d_hXh"
      },
      "source": [
        "lambda v: True if v == 'ok' else False\n",
        "\n",
        "df['campo'] = df['campo''].apply(lambda v: True if v == 'ok' else (False if v == 'nok' else None))"
      ],
      "execution_count": null,
      "outputs": []
    },
    {
      "cell_type": "markdown",
      "metadata": {
        "id": "R2KuymQIAcR3"
      },
      "source": [
        "**apply** em um df permite a itera nas colunas e nas linhas usa-se a propriedade T. "
      ]
    },
    {
      "cell_type": "code",
      "metadata": {
        "id": "HDa-fHOwAe1w"
      },
      "source": [
        "df.válido = df.T.apply(invalidate_by_day)"
      ],
      "execution_count": null,
      "outputs": []
    },
    {
      "cell_type": "markdown",
      "metadata": {
        "id": "zzzpkXOgAsKr"
      },
      "source": [
        "**columns** permite rápida visualização das colunas presentes no df"
      ]
    },
    {
      "cell_type": "code",
      "metadata": {
        "id": "4awn7SsrAuDH",
        "colab": {
          "base_uri": "https://localhost:8080/"
        },
        "outputId": "11e9ecb2-6d1d-4f81-b242-a3de9b26a7d7"
      },
      "source": [
        "df.columns"
      ],
      "execution_count": null,
      "outputs": [
        {
          "output_type": "execute_result",
          "data": {
            "text/plain": [
              "Index(['Potavel', 'pH', 'Densidade', 'Solidos', 'Cloraminas', 'Sulfato',\n",
              "       'Condutividade', 'MateriaOrganica', 'Trihalometanos', 'Turbidez'],\n",
              "      dtype='object')"
            ]
          },
          "metadata": {
            "tags": []
          },
          "execution_count": 62
        }
      ]
    },
    {
      "cell_type": "markdown",
      "metadata": {
        "id": "kXTWx-Z9AzJR"
      },
      "source": [
        "Visualizar os dados para as colunas especificadas"
      ]
    },
    {
      "cell_type": "code",
      "metadata": {
        "id": "ZfLsaoz0A1JY",
        "colab": {
          "base_uri": "https://localhost:8080/",
          "height": 355
        },
        "outputId": "805d46ce-5329-418c-d335-39ba045bb40d"
      },
      "source": [
        "df[['Potavel', 'pH']].head(10)"
      ],
      "execution_count": null,
      "outputs": [
        {
          "output_type": "execute_result",
          "data": {
            "text/html": [
              "<div>\n",
              "<style scoped>\n",
              "    .dataframe tbody tr th:only-of-type {\n",
              "        vertical-align: middle;\n",
              "    }\n",
              "\n",
              "    .dataframe tbody tr th {\n",
              "        vertical-align: top;\n",
              "    }\n",
              "\n",
              "    .dataframe thead th {\n",
              "        text-align: right;\n",
              "    }\n",
              "</style>\n",
              "<table border=\"1\" class=\"dataframe\">\n",
              "  <thead>\n",
              "    <tr style=\"text-align: right;\">\n",
              "      <th></th>\n",
              "      <th>Potavel</th>\n",
              "      <th>pH</th>\n",
              "    </tr>\n",
              "  </thead>\n",
              "  <tbody>\n",
              "    <tr>\n",
              "      <th>0</th>\n",
              "      <td>0</td>\n",
              "      <td>NaN</td>\n",
              "    </tr>\n",
              "    <tr>\n",
              "      <th>1</th>\n",
              "      <td>0</td>\n",
              "      <td>3.716080</td>\n",
              "    </tr>\n",
              "    <tr>\n",
              "      <th>2</th>\n",
              "      <td>0</td>\n",
              "      <td>8.099124</td>\n",
              "    </tr>\n",
              "    <tr>\n",
              "      <th>3</th>\n",
              "      <td>0</td>\n",
              "      <td>8.316766</td>\n",
              "    </tr>\n",
              "    <tr>\n",
              "      <th>4</th>\n",
              "      <td>0</td>\n",
              "      <td>9.092223</td>\n",
              "    </tr>\n",
              "    <tr>\n",
              "      <th>5</th>\n",
              "      <td>0</td>\n",
              "      <td>5.584087</td>\n",
              "    </tr>\n",
              "    <tr>\n",
              "      <th>6</th>\n",
              "      <td>0</td>\n",
              "      <td>10.223862</td>\n",
              "    </tr>\n",
              "    <tr>\n",
              "      <th>7</th>\n",
              "      <td>0</td>\n",
              "      <td>8.635849</td>\n",
              "    </tr>\n",
              "    <tr>\n",
              "      <th>8</th>\n",
              "      <td>0</td>\n",
              "      <td>NaN</td>\n",
              "    </tr>\n",
              "    <tr>\n",
              "      <th>9</th>\n",
              "      <td>0</td>\n",
              "      <td>11.180284</td>\n",
              "    </tr>\n",
              "  </tbody>\n",
              "</table>\n",
              "</div>"
            ],
            "text/plain": [
              "   Potavel         pH\n",
              "0        0        NaN\n",
              "1        0   3.716080\n",
              "2        0   8.099124\n",
              "3        0   8.316766\n",
              "4        0   9.092223\n",
              "5        0   5.584087\n",
              "6        0  10.223862\n",
              "7        0   8.635849\n",
              "8        0        NaN\n",
              "9        0  11.180284"
            ]
          },
          "metadata": {
            "tags": []
          },
          "execution_count": 63
        }
      ]
    },
    {
      "cell_type": "markdown",
      "metadata": {
        "id": "5DwbAPohBNPg"
      },
      "source": [
        "**unique()** permite a visualização de valores únicos"
      ]
    },
    {
      "cell_type": "code",
      "metadata": {
        "id": "sYwEa2bEBPWx",
        "colab": {
          "base_uri": "https://localhost:8080/"
        },
        "outputId": "1aeb31ef-9105-47b8-8e86-44f2e011c206"
      },
      "source": [
        "df['Potavel'].unique()"
      ],
      "execution_count": null,
      "outputs": [
        {
          "output_type": "execute_result",
          "data": {
            "text/plain": [
              "array([0, 1])"
            ]
          },
          "metadata": {
            "tags": []
          },
          "execution_count": 64
        }
      ]
    },
    {
      "cell_type": "markdown",
      "metadata": {
        "id": "YYHsYOm5fejf"
      },
      "source": [
        "**sort_values** ordenar os dados de um determinado campo"
      ]
    },
    {
      "cell_type": "code",
      "metadata": {
        "id": "9AUEUetpCIn2",
        "colab": {
          "base_uri": "https://localhost:8080/",
          "height": 355
        },
        "outputId": "e21a8606-ec60-40b2-84b7-28dd850fe571"
      },
      "source": [
        "df.sort_values('Densidade').head(10)"
      ],
      "execution_count": null,
      "outputs": [
        {
          "output_type": "execute_result",
          "data": {
            "text/html": [
              "<div>\n",
              "<style scoped>\n",
              "    .dataframe tbody tr th:only-of-type {\n",
              "        vertical-align: middle;\n",
              "    }\n",
              "\n",
              "    .dataframe tbody tr th {\n",
              "        vertical-align: top;\n",
              "    }\n",
              "\n",
              "    .dataframe thead th {\n",
              "        text-align: right;\n",
              "    }\n",
              "</style>\n",
              "<table border=\"1\" class=\"dataframe\">\n",
              "  <thead>\n",
              "    <tr style=\"text-align: right;\">\n",
              "      <th></th>\n",
              "      <th>Potavel</th>\n",
              "      <th>pH</th>\n",
              "      <th>Densidade</th>\n",
              "      <th>Solidos</th>\n",
              "      <th>Cloraminas</th>\n",
              "      <th>Sulfato</th>\n",
              "      <th>Condutividade</th>\n",
              "      <th>MateriaOrganica</th>\n",
              "      <th>Trihalometanos</th>\n",
              "      <th>Turbidez</th>\n",
              "    </tr>\n",
              "  </thead>\n",
              "  <tbody>\n",
              "    <tr>\n",
              "      <th>2011</th>\n",
              "      <td>1</td>\n",
              "      <td>13.175402</td>\n",
              "      <td>47.432000</td>\n",
              "      <td>19237.94968</td>\n",
              "      <td>8.907020</td>\n",
              "      <td>0</td>\n",
              "      <td>500.245952</td>\n",
              "      <td>12.083896</td>\n",
              "      <td>NaN</td>\n",
              "      <td>4.106924</td>\n",
              "    </tr>\n",
              "    <tr>\n",
              "      <th>2127</th>\n",
              "      <td>1</td>\n",
              "      <td>9.443359</td>\n",
              "      <td>73.492234</td>\n",
              "      <td>20438.22469</td>\n",
              "      <td>8.024953</td>\n",
              "      <td>0</td>\n",
              "      <td>458.677232</td>\n",
              "      <td>12.538681</td>\n",
              "      <td>50.852470</td>\n",
              "      <td>3.486646</td>\n",
              "    </tr>\n",
              "    <tr>\n",
              "      <th>2065</th>\n",
              "      <td>1</td>\n",
              "      <td>11.301794</td>\n",
              "      <td>77.459586</td>\n",
              "      <td>39227.61946</td>\n",
              "      <td>8.517986</td>\n",
              "      <td>0</td>\n",
              "      <td>410.856114</td>\n",
              "      <td>14.326889</td>\n",
              "      <td>53.121260</td>\n",
              "      <td>3.309580</td>\n",
              "    </tr>\n",
              "    <tr>\n",
              "      <th>2026</th>\n",
              "      <td>1</td>\n",
              "      <td>10.761898</td>\n",
              "      <td>81.710895</td>\n",
              "      <td>25999.95367</td>\n",
              "      <td>8.477394</td>\n",
              "      <td>0</td>\n",
              "      <td>392.704082</td>\n",
              "      <td>12.716350</td>\n",
              "      <td>52.246972</td>\n",
              "      <td>4.661799</td>\n",
              "    </tr>\n",
              "    <tr>\n",
              "      <th>2083</th>\n",
              "      <td>1</td>\n",
              "      <td>10.026224</td>\n",
              "      <td>94.091307</td>\n",
              "      <td>25510.09730</td>\n",
              "      <td>6.614114</td>\n",
              "      <td>0</td>\n",
              "      <td>388.467266</td>\n",
              "      <td>11.887161</td>\n",
              "      <td>69.273979</td>\n",
              "      <td>3.736228</td>\n",
              "    </tr>\n",
              "    <tr>\n",
              "      <th>3269</th>\n",
              "      <td>1</td>\n",
              "      <td>11.491011</td>\n",
              "      <td>94.812545</td>\n",
              "      <td>37188.82602</td>\n",
              "      <td>9.263166</td>\n",
              "      <td>0</td>\n",
              "      <td>439.893618</td>\n",
              "      <td>16.172755</td>\n",
              "      <td>41.558501</td>\n",
              "      <td>4.369264</td>\n",
              "    </tr>\n",
              "    <tr>\n",
              "      <th>3179</th>\n",
              "      <td>1</td>\n",
              "      <td>9.612899</td>\n",
              "      <td>94.908977</td>\n",
              "      <td>16598.57751</td>\n",
              "      <td>9.143046</td>\n",
              "      <td>0</td>\n",
              "      <td>535.698700</td>\n",
              "      <td>12.312032</td>\n",
              "      <td>67.426955</td>\n",
              "      <td>4.016410</td>\n",
              "    </tr>\n",
              "    <tr>\n",
              "      <th>2540</th>\n",
              "      <td>1</td>\n",
              "      <td>6.347020</td>\n",
              "      <td>97.280909</td>\n",
              "      <td>19743.14842</td>\n",
              "      <td>3.402682</td>\n",
              "      <td>0</td>\n",
              "      <td>502.919013</td>\n",
              "      <td>15.094091</td>\n",
              "      <td>86.554168</td>\n",
              "      <td>4.526351</td>\n",
              "    </tr>\n",
              "    <tr>\n",
              "      <th>3217</th>\n",
              "      <td>1</td>\n",
              "      <td>NaN</td>\n",
              "      <td>98.367915</td>\n",
              "      <td>28415.57583</td>\n",
              "      <td>10.558950</td>\n",
              "      <td>0</td>\n",
              "      <td>505.240269</td>\n",
              "      <td>12.882614</td>\n",
              "      <td>85.329955</td>\n",
              "      <td>4.119087</td>\n",
              "    </tr>\n",
              "    <tr>\n",
              "      <th>1009</th>\n",
              "      <td>0</td>\n",
              "      <td>7.266599</td>\n",
              "      <td>98.452931</td>\n",
              "      <td>36490.14303</td>\n",
              "      <td>7.138814</td>\n",
              "      <td>0</td>\n",
              "      <td>502.883067</td>\n",
              "      <td>7.360772</td>\n",
              "      <td>76.290285</td>\n",
              "      <td>4.952733</td>\n",
              "    </tr>\n",
              "  </tbody>\n",
              "</table>\n",
              "</div>"
            ],
            "text/plain": [
              "      Potavel         pH  Densidade  ...  MateriaOrganica  Trihalometanos  Turbidez\n",
              "2011        1  13.175402  47.432000  ...        12.083896             NaN  4.106924\n",
              "2127        1   9.443359  73.492234  ...        12.538681       50.852470  3.486646\n",
              "2065        1  11.301794  77.459586  ...        14.326889       53.121260  3.309580\n",
              "2026        1  10.761898  81.710895  ...        12.716350       52.246972  4.661799\n",
              "2083        1  10.026224  94.091307  ...        11.887161       69.273979  3.736228\n",
              "3269        1  11.491011  94.812545  ...        16.172755       41.558501  4.369264\n",
              "3179        1   9.612899  94.908977  ...        12.312032       67.426955  4.016410\n",
              "2540        1   6.347020  97.280909  ...        15.094091       86.554168  4.526351\n",
              "3217        1        NaN  98.367915  ...        12.882614       85.329955  4.119087\n",
              "1009        0   7.266599  98.452931  ...         7.360772       76.290285  4.952733\n",
              "\n",
              "[10 rows x 10 columns]"
            ]
          },
          "metadata": {
            "tags": []
          },
          "execution_count": 65
        }
      ]
    },
    {
      "cell_type": "markdown",
      "metadata": {
        "id": "bBLwOmVeCLyV"
      },
      "source": [
        "**sort_value ascending** ordenar de forma decrescente"
      ]
    },
    {
      "cell_type": "code",
      "metadata": {
        "id": "q6bEveGtCOQg",
        "colab": {
          "base_uri": "https://localhost:8080/",
          "height": 355
        },
        "outputId": "fb4144c6-5f8e-4f2c-8559-75f26e0c6dfb"
      },
      "source": [
        "df.sort_values('Densidade', ascending=False). head(10)"
      ],
      "execution_count": null,
      "outputs": [
        {
          "output_type": "execute_result",
          "data": {
            "text/html": [
              "<div>\n",
              "<style scoped>\n",
              "    .dataframe tbody tr th:only-of-type {\n",
              "        vertical-align: middle;\n",
              "    }\n",
              "\n",
              "    .dataframe tbody tr th {\n",
              "        vertical-align: top;\n",
              "    }\n",
              "\n",
              "    .dataframe thead th {\n",
              "        text-align: right;\n",
              "    }\n",
              "</style>\n",
              "<table border=\"1\" class=\"dataframe\">\n",
              "  <thead>\n",
              "    <tr style=\"text-align: right;\">\n",
              "      <th></th>\n",
              "      <th>Potavel</th>\n",
              "      <th>pH</th>\n",
              "      <th>Densidade</th>\n",
              "      <th>Solidos</th>\n",
              "      <th>Cloraminas</th>\n",
              "      <th>Sulfato</th>\n",
              "      <th>Condutividade</th>\n",
              "      <th>MateriaOrganica</th>\n",
              "      <th>Trihalometanos</th>\n",
              "      <th>Turbidez</th>\n",
              "    </tr>\n",
              "  </thead>\n",
              "  <tbody>\n",
              "    <tr>\n",
              "      <th>2095</th>\n",
              "      <td>1</td>\n",
              "      <td>3.551579</td>\n",
              "      <td>323.124000</td>\n",
              "      <td>38969.38899</td>\n",
              "      <td>8.925515</td>\n",
              "      <td>0</td>\n",
              "      <td>514.762918</td>\n",
              "      <td>10.160303</td>\n",
              "      <td>71.099999</td>\n",
              "      <td>3.965994</td>\n",
              "    </tr>\n",
              "    <tr>\n",
              "      <th>3110</th>\n",
              "      <td>1</td>\n",
              "      <td>9.318614</td>\n",
              "      <td>317.338124</td>\n",
              "      <td>24497.87394</td>\n",
              "      <td>7.597452</td>\n",
              "      <td>0</td>\n",
              "      <td>476.510384</td>\n",
              "      <td>12.032377</td>\n",
              "      <td>68.599830</td>\n",
              "      <td>4.642719</td>\n",
              "    </tr>\n",
              "    <tr>\n",
              "      <th>2102</th>\n",
              "      <td>1</td>\n",
              "      <td>2.798549</td>\n",
              "      <td>311.383957</td>\n",
              "      <td>26931.24348</td>\n",
              "      <td>7.116897</td>\n",
              "      <td>0</td>\n",
              "      <td>521.140524</td>\n",
              "      <td>14.235154</td>\n",
              "      <td>42.080353</td>\n",
              "      <td>3.663252</td>\n",
              "    </tr>\n",
              "    <tr>\n",
              "      <th>2131</th>\n",
              "      <td>1</td>\n",
              "      <td>4.912557</td>\n",
              "      <td>308.253833</td>\n",
              "      <td>44063.09842</td>\n",
              "      <td>7.927977</td>\n",
              "      <td>0</td>\n",
              "      <td>327.475650</td>\n",
              "      <td>14.857981</td>\n",
              "      <td>NaN</td>\n",
              "      <td>4.897373</td>\n",
              "    </tr>\n",
              "    <tr>\n",
              "      <th>2069</th>\n",
              "      <td>1</td>\n",
              "      <td>4.642953</td>\n",
              "      <td>307.706024</td>\n",
              "      <td>16115.92986</td>\n",
              "      <td>7.707342</td>\n",
              "      <td>0</td>\n",
              "      <td>439.944408</td>\n",
              "      <td>18.440790</td>\n",
              "      <td>60.145842</td>\n",
              "      <td>3.982867</td>\n",
              "    </tr>\n",
              "    <tr>\n",
              "      <th>2488</th>\n",
              "      <td>1</td>\n",
              "      <td>6.792407</td>\n",
              "      <td>306.627481</td>\n",
              "      <td>28508.21693</td>\n",
              "      <td>6.811416</td>\n",
              "      <td>0</td>\n",
              "      <td>306.115539</td>\n",
              "      <td>9.006143</td>\n",
              "      <td>60.912034</td>\n",
              "      <td>2.505650</td>\n",
              "    </tr>\n",
              "    <tr>\n",
              "      <th>37</th>\n",
              "      <td>0</td>\n",
              "      <td>5.618064</td>\n",
              "      <td>304.235912</td>\n",
              "      <td>17281.97517</td>\n",
              "      <td>6.101084</td>\n",
              "      <td>0</td>\n",
              "      <td>399.471566</td>\n",
              "      <td>12.265002</td>\n",
              "      <td>81.588992</td>\n",
              "      <td>2.896547</td>\n",
              "    </tr>\n",
              "    <tr>\n",
              "      <th>3221</th>\n",
              "      <td>1</td>\n",
              "      <td>4.034063</td>\n",
              "      <td>303.702627</td>\n",
              "      <td>33219.07455</td>\n",
              "      <td>4.425559</td>\n",
              "      <td>0</td>\n",
              "      <td>494.320907</td>\n",
              "      <td>13.415230</td>\n",
              "      <td>72.012642</td>\n",
              "      <td>5.024742</td>\n",
              "    </tr>\n",
              "    <tr>\n",
              "      <th>88</th>\n",
              "      <td>0</td>\n",
              "      <td>10.155440</td>\n",
              "      <td>300.292476</td>\n",
              "      <td>12652.36298</td>\n",
              "      <td>6.655126</td>\n",
              "      <td>0</td>\n",
              "      <td>487.459131</td>\n",
              "      <td>9.347634</td>\n",
              "      <td>67.919789</td>\n",
              "      <td>5.002467</td>\n",
              "    </tr>\n",
              "    <tr>\n",
              "      <th>1686</th>\n",
              "      <td>0</td>\n",
              "      <td>11.907740</td>\n",
              "      <td>298.098680</td>\n",
              "      <td>17083.17509</td>\n",
              "      <td>5.878993</td>\n",
              "      <td>0</td>\n",
              "      <td>400.330798</td>\n",
              "      <td>14.063370</td>\n",
              "      <td>64.368593</td>\n",
              "      <td>4.256415</td>\n",
              "    </tr>\n",
              "  </tbody>\n",
              "</table>\n",
              "</div>"
            ],
            "text/plain": [
              "      Potavel         pH   Densidade  ...  MateriaOrganica  Trihalometanos  Turbidez\n",
              "2095        1   3.551579  323.124000  ...        10.160303       71.099999  3.965994\n",
              "3110        1   9.318614  317.338124  ...        12.032377       68.599830  4.642719\n",
              "2102        1   2.798549  311.383957  ...        14.235154       42.080353  3.663252\n",
              "2131        1   4.912557  308.253833  ...        14.857981             NaN  4.897373\n",
              "2069        1   4.642953  307.706024  ...        18.440790       60.145842  3.982867\n",
              "2488        1   6.792407  306.627481  ...         9.006143       60.912034  2.505650\n",
              "37          0   5.618064  304.235912  ...        12.265002       81.588992  2.896547\n",
              "3221        1   4.034063  303.702627  ...        13.415230       72.012642  5.024742\n",
              "88          0  10.155440  300.292476  ...         9.347634       67.919789  5.002467\n",
              "1686        0  11.907740  298.098680  ...        14.063370       64.368593  4.256415\n",
              "\n",
              "[10 rows x 10 columns]"
            ]
          },
          "metadata": {
            "tags": []
          },
          "execution_count": 8
        }
      ]
    },
    {
      "cell_type": "markdown",
      "metadata": {
        "id": "HKmq2ipLCQ4M"
      },
      "source": [
        "**median()** calcula a mediana, i.e., o valor de centro do conjunto de dados\n",
        "\n",
        "*Obs: Com a mediana é possível verificar se está mais próxima dos mínimos ou dos máximos, ou seja, se existem poucos dados no mínimo ou no máximo*"
      ]
    },
    {
      "cell_type": "code",
      "metadata": {
        "id": "odZoWrnHCSTx",
        "colab": {
          "base_uri": "https://localhost:8080/"
        },
        "outputId": "e1e8eddb-7f3c-473e-8c71-d93c507655d5"
      },
      "source": [
        "df.median()"
      ],
      "execution_count": null,
      "outputs": [
        {
          "output_type": "execute_result",
          "data": {
            "text/plain": [
              "Potavel                0.000000\n",
              "pH                     7.036752\n",
              "Densidade            196.967627\n",
              "Solidos            20927.833605\n",
              "Cloraminas             7.130299\n",
              "Sulfato                0.000000\n",
              "Condutividade        421.884968\n",
              "MateriaOrganica       14.218338\n",
              "Trihalometanos        66.622485\n",
              "Turbidez               3.955028\n",
              "dtype: float64"
            ]
          },
          "metadata": {
            "tags": []
          },
          "execution_count": 9
        }
      ]
    },
    {
      "cell_type": "markdown",
      "metadata": {
        "id": "HUtOswkwCVIw"
      },
      "source": [
        "**mean()** calcula a média\n",
        "\n",
        "*Permite observar a amplitude do conjunto, pois, se o dado médio analisado está bem mais próximo ao limite inferior do que ao superior, nos sugere que, mesmo com valores altos, há um número elevado de valores baixos que puxa o conjunto médio para valores menores*"
      ]
    },
    {
      "cell_type": "code",
      "metadata": {
        "id": "rV9ILnK0CXtW",
        "colab": {
          "base_uri": "https://localhost:8080/"
        },
        "outputId": "7515fcfa-1f6f-4b47-e15e-887825ec95c1"
      },
      "source": [
        "df.mean()"
      ],
      "execution_count": null,
      "outputs": [
        {
          "output_type": "execute_result",
          "data": {
            "text/plain": [
              "Potavel                0.390110\n",
              "pH                     7.080795\n",
              "Densidade            196.369496\n",
              "Solidos            22014.092526\n",
              "Cloraminas             7.122277\n",
              "Sulfato                0.000000\n",
              "Condutividade        426.205111\n",
              "MateriaOrganica       14.284970\n",
              "Trihalometanos        66.396293\n",
              "Turbidez               3.966786\n",
              "dtype: float64"
            ]
          },
          "metadata": {
            "tags": []
          },
          "execution_count": 11
        }
      ]
    },
    {
      "cell_type": "markdown",
      "metadata": {
        "id": "xYJ9oOvEjbk1"
      },
      "source": [
        "**min()** calcula o valor mínimo"
      ]
    },
    {
      "cell_type": "code",
      "metadata": {
        "colab": {
          "base_uri": "https://localhost:8080/"
        },
        "id": "LYn96z2Pjhxo",
        "outputId": "7f6621fd-36e6-4208-f1ed-9f6db8811058"
      },
      "source": [
        "df.min()"
      ],
      "execution_count": null,
      "outputs": [
        {
          "output_type": "execute_result",
          "data": {
            "text/plain": [
              "Potavel              0.000000\n",
              "pH                   0.000000\n",
              "Densidade           47.432000\n",
              "Solidos            320.942611\n",
              "Cloraminas           0.352000\n",
              "Sulfato              0.000000\n",
              "Condutividade      181.483754\n",
              "MateriaOrganica      2.200000\n",
              "Trihalometanos       0.738000\n",
              "Turbidez             1.450000\n",
              "dtype: float64"
            ]
          },
          "metadata": {
            "tags": []
          },
          "execution_count": 12
        }
      ]
    },
    {
      "cell_type": "markdown",
      "metadata": {
        "id": "mM85GVn1jtkA"
      },
      "source": [
        "**max()** calcula o valor máximo"
      ]
    },
    {
      "cell_type": "code",
      "metadata": {
        "colab": {
          "base_uri": "https://localhost:8080/"
        },
        "id": "be0CD6ywjw5r",
        "outputId": "89b8b25a-ca96-41dc-e48c-1bc9e445d39d"
      },
      "source": [
        "df.max()"
      ],
      "execution_count": null,
      "outputs": [
        {
          "output_type": "execute_result",
          "data": {
            "text/plain": [
              "Potavel                1.00000\n",
              "pH                    14.00000\n",
              "Densidade            323.12400\n",
              "Solidos            61227.19601\n",
              "Cloraminas            13.12700\n",
              "Sulfato                0.00000\n",
              "Condutividade        753.34262\n",
              "MateriaOrganica       28.30000\n",
              "Trihalometanos       124.00000\n",
              "Turbidez               6.73900\n",
              "dtype: float64"
            ]
          },
          "metadata": {
            "tags": []
          },
          "execution_count": 13
        }
      ]
    },
    {
      "cell_type": "markdown",
      "metadata": {
        "id": "hijTouttERhF"
      },
      "source": [
        "**groupby** realiza o agrupamento de dados podendo contar, somar, obter a média, o mínimo, o máximo\n"
      ]
    },
    {
      "cell_type": "code",
      "metadata": {
        "id": "POXRuHFtEUcS",
        "colab": {
          "base_uri": "https://localhost:8080/",
          "height": 141
        },
        "outputId": "5bfbb3bd-b93d-424f-c63e-924375b600d1"
      },
      "source": [
        "df[['Potavel', 'Densidade']].groupby('Potavel').count()"
      ],
      "execution_count": null,
      "outputs": [
        {
          "output_type": "execute_result",
          "data": {
            "text/html": [
              "<div>\n",
              "<style scoped>\n",
              "    .dataframe tbody tr th:only-of-type {\n",
              "        vertical-align: middle;\n",
              "    }\n",
              "\n",
              "    .dataframe tbody tr th {\n",
              "        vertical-align: top;\n",
              "    }\n",
              "\n",
              "    .dataframe thead th {\n",
              "        text-align: right;\n",
              "    }\n",
              "</style>\n",
              "<table border=\"1\" class=\"dataframe\">\n",
              "  <thead>\n",
              "    <tr style=\"text-align: right;\">\n",
              "      <th></th>\n",
              "      <th>Densidade</th>\n",
              "    </tr>\n",
              "    <tr>\n",
              "      <th>Potavel</th>\n",
              "      <th></th>\n",
              "    </tr>\n",
              "  </thead>\n",
              "  <tbody>\n",
              "    <tr>\n",
              "      <th>0</th>\n",
              "      <td>1998</td>\n",
              "    </tr>\n",
              "    <tr>\n",
              "      <th>1</th>\n",
              "      <td>1278</td>\n",
              "    </tr>\n",
              "  </tbody>\n",
              "</table>\n",
              "</div>"
            ],
            "text/plain": [
              "         Densidade\n",
              "Potavel           \n",
              "0             1998\n",
              "1             1278"
            ]
          },
          "metadata": {
            "tags": []
          },
          "execution_count": 14
        }
      ]
    },
    {
      "cell_type": "markdown",
      "metadata": {
        "id": "ap4OleTQCwZ0"
      },
      "source": [
        "[:n] pode-se visualizar apenas parte dos dados"
      ]
    },
    {
      "cell_type": "code",
      "metadata": {
        "id": "uipDACvcCyPY",
        "colab": {
          "base_uri": "https://localhost:8080/",
          "height": 662
        },
        "outputId": "36dd328d-a5dc-4a89-cdde-596e59e526d2"
      },
      "source": [
        "df[:20]"
      ],
      "execution_count": null,
      "outputs": [
        {
          "output_type": "execute_result",
          "data": {
            "text/html": [
              "<div>\n",
              "<style scoped>\n",
              "    .dataframe tbody tr th:only-of-type {\n",
              "        vertical-align: middle;\n",
              "    }\n",
              "\n",
              "    .dataframe tbody tr th {\n",
              "        vertical-align: top;\n",
              "    }\n",
              "\n",
              "    .dataframe thead th {\n",
              "        text-align: right;\n",
              "    }\n",
              "</style>\n",
              "<table border=\"1\" class=\"dataframe\">\n",
              "  <thead>\n",
              "    <tr style=\"text-align: right;\">\n",
              "      <th></th>\n",
              "      <th>Potavel</th>\n",
              "      <th>pH</th>\n",
              "      <th>Densidade</th>\n",
              "      <th>Solidos</th>\n",
              "      <th>Cloraminas</th>\n",
              "      <th>Sulfato</th>\n",
              "      <th>Condutividade</th>\n",
              "      <th>MateriaOrganica</th>\n",
              "      <th>Trihalometanos</th>\n",
              "      <th>Turbidez</th>\n",
              "    </tr>\n",
              "  </thead>\n",
              "  <tbody>\n",
              "    <tr>\n",
              "      <th>0</th>\n",
              "      <td>0</td>\n",
              "      <td>NaN</td>\n",
              "      <td>204.890456</td>\n",
              "      <td>20791.31898</td>\n",
              "      <td>7.300212</td>\n",
              "      <td>0</td>\n",
              "      <td>564.308654</td>\n",
              "      <td>10.379783</td>\n",
              "      <td>86.990970</td>\n",
              "      <td>2.963135</td>\n",
              "    </tr>\n",
              "    <tr>\n",
              "      <th>1</th>\n",
              "      <td>0</td>\n",
              "      <td>3.716080</td>\n",
              "      <td>129.422921</td>\n",
              "      <td>18630.05786</td>\n",
              "      <td>6.635246</td>\n",
              "      <td>0</td>\n",
              "      <td>592.885359</td>\n",
              "      <td>15.180013</td>\n",
              "      <td>56.329076</td>\n",
              "      <td>4.500656</td>\n",
              "    </tr>\n",
              "    <tr>\n",
              "      <th>2</th>\n",
              "      <td>0</td>\n",
              "      <td>8.099124</td>\n",
              "      <td>224.236259</td>\n",
              "      <td>19909.54173</td>\n",
              "      <td>9.275884</td>\n",
              "      <td>0</td>\n",
              "      <td>418.606213</td>\n",
              "      <td>16.868637</td>\n",
              "      <td>66.420093</td>\n",
              "      <td>3.055934</td>\n",
              "    </tr>\n",
              "    <tr>\n",
              "      <th>3</th>\n",
              "      <td>0</td>\n",
              "      <td>8.316766</td>\n",
              "      <td>214.373394</td>\n",
              "      <td>22018.41744</td>\n",
              "      <td>8.059332</td>\n",
              "      <td>0</td>\n",
              "      <td>363.266516</td>\n",
              "      <td>18.436525</td>\n",
              "      <td>100.341674</td>\n",
              "      <td>4.628771</td>\n",
              "    </tr>\n",
              "    <tr>\n",
              "      <th>4</th>\n",
              "      <td>0</td>\n",
              "      <td>9.092223</td>\n",
              "      <td>181.101509</td>\n",
              "      <td>17978.98634</td>\n",
              "      <td>6.546600</td>\n",
              "      <td>0</td>\n",
              "      <td>398.410813</td>\n",
              "      <td>11.558279</td>\n",
              "      <td>31.997993</td>\n",
              "      <td>4.075075</td>\n",
              "    </tr>\n",
              "    <tr>\n",
              "      <th>5</th>\n",
              "      <td>0</td>\n",
              "      <td>5.584087</td>\n",
              "      <td>188.313324</td>\n",
              "      <td>28748.68774</td>\n",
              "      <td>7.544869</td>\n",
              "      <td>0</td>\n",
              "      <td>280.467916</td>\n",
              "      <td>8.399735</td>\n",
              "      <td>54.917862</td>\n",
              "      <td>2.559708</td>\n",
              "    </tr>\n",
              "    <tr>\n",
              "      <th>6</th>\n",
              "      <td>0</td>\n",
              "      <td>10.223862</td>\n",
              "      <td>248.071735</td>\n",
              "      <td>28749.71654</td>\n",
              "      <td>7.513408</td>\n",
              "      <td>0</td>\n",
              "      <td>283.651634</td>\n",
              "      <td>13.789695</td>\n",
              "      <td>84.603556</td>\n",
              "      <td>2.672989</td>\n",
              "    </tr>\n",
              "    <tr>\n",
              "      <th>7</th>\n",
              "      <td>0</td>\n",
              "      <td>8.635849</td>\n",
              "      <td>203.361523</td>\n",
              "      <td>13672.09176</td>\n",
              "      <td>4.563009</td>\n",
              "      <td>0</td>\n",
              "      <td>474.607645</td>\n",
              "      <td>12.363817</td>\n",
              "      <td>62.798309</td>\n",
              "      <td>4.401425</td>\n",
              "    </tr>\n",
              "    <tr>\n",
              "      <th>8</th>\n",
              "      <td>0</td>\n",
              "      <td>NaN</td>\n",
              "      <td>118.988579</td>\n",
              "      <td>14285.58385</td>\n",
              "      <td>7.804174</td>\n",
              "      <td>0</td>\n",
              "      <td>389.375566</td>\n",
              "      <td>12.706049</td>\n",
              "      <td>53.928846</td>\n",
              "      <td>3.595017</td>\n",
              "    </tr>\n",
              "    <tr>\n",
              "      <th>9</th>\n",
              "      <td>0</td>\n",
              "      <td>11.180284</td>\n",
              "      <td>227.231469</td>\n",
              "      <td>25484.50849</td>\n",
              "      <td>9.077200</td>\n",
              "      <td>0</td>\n",
              "      <td>563.885481</td>\n",
              "      <td>17.927806</td>\n",
              "      <td>71.976601</td>\n",
              "      <td>4.370562</td>\n",
              "    </tr>\n",
              "    <tr>\n",
              "      <th>10</th>\n",
              "      <td>0</td>\n",
              "      <td>7.360640</td>\n",
              "      <td>165.520797</td>\n",
              "      <td>32452.61441</td>\n",
              "      <td>7.550701</td>\n",
              "      <td>0</td>\n",
              "      <td>425.383420</td>\n",
              "      <td>15.586810</td>\n",
              "      <td>78.740016</td>\n",
              "      <td>3.662292</td>\n",
              "    </tr>\n",
              "    <tr>\n",
              "      <th>11</th>\n",
              "      <td>0</td>\n",
              "      <td>7.974522</td>\n",
              "      <td>218.693300</td>\n",
              "      <td>18767.65668</td>\n",
              "      <td>8.110385</td>\n",
              "      <td>0</td>\n",
              "      <td>364.098230</td>\n",
              "      <td>14.525746</td>\n",
              "      <td>76.485911</td>\n",
              "      <td>4.011718</td>\n",
              "    </tr>\n",
              "    <tr>\n",
              "      <th>12</th>\n",
              "      <td>0</td>\n",
              "      <td>7.119824</td>\n",
              "      <td>156.704993</td>\n",
              "      <td>18730.81365</td>\n",
              "      <td>3.606036</td>\n",
              "      <td>0</td>\n",
              "      <td>347.715027</td>\n",
              "      <td>15.929536</td>\n",
              "      <td>79.500778</td>\n",
              "      <td>3.445756</td>\n",
              "    </tr>\n",
              "    <tr>\n",
              "      <th>13</th>\n",
              "      <td>0</td>\n",
              "      <td>NaN</td>\n",
              "      <td>150.174923</td>\n",
              "      <td>27331.36196</td>\n",
              "      <td>6.838223</td>\n",
              "      <td>0</td>\n",
              "      <td>379.761835</td>\n",
              "      <td>19.370807</td>\n",
              "      <td>76.509996</td>\n",
              "      <td>4.413974</td>\n",
              "    </tr>\n",
              "    <tr>\n",
              "      <th>14</th>\n",
              "      <td>0</td>\n",
              "      <td>7.496232</td>\n",
              "      <td>205.344982</td>\n",
              "      <td>28388.00489</td>\n",
              "      <td>5.072558</td>\n",
              "      <td>0</td>\n",
              "      <td>444.645352</td>\n",
              "      <td>13.228311</td>\n",
              "      <td>70.300213</td>\n",
              "      <td>4.777382</td>\n",
              "    </tr>\n",
              "    <tr>\n",
              "      <th>15</th>\n",
              "      <td>0</td>\n",
              "      <td>6.347272</td>\n",
              "      <td>186.732881</td>\n",
              "      <td>41065.23476</td>\n",
              "      <td>9.629596</td>\n",
              "      <td>0</td>\n",
              "      <td>516.743282</td>\n",
              "      <td>11.539781</td>\n",
              "      <td>75.071617</td>\n",
              "      <td>4.376348</td>\n",
              "    </tr>\n",
              "    <tr>\n",
              "      <th>16</th>\n",
              "      <td>0</td>\n",
              "      <td>7.051786</td>\n",
              "      <td>211.049406</td>\n",
              "      <td>30980.60079</td>\n",
              "      <td>10.094796</td>\n",
              "      <td>0</td>\n",
              "      <td>315.141267</td>\n",
              "      <td>20.397022</td>\n",
              "      <td>56.651604</td>\n",
              "      <td>4.268429</td>\n",
              "    </tr>\n",
              "    <tr>\n",
              "      <th>17</th>\n",
              "      <td>0</td>\n",
              "      <td>9.181560</td>\n",
              "      <td>273.813807</td>\n",
              "      <td>24041.32628</td>\n",
              "      <td>6.904990</td>\n",
              "      <td>0</td>\n",
              "      <td>477.974642</td>\n",
              "      <td>13.387341</td>\n",
              "      <td>71.457362</td>\n",
              "      <td>4.503661</td>\n",
              "    </tr>\n",
              "    <tr>\n",
              "      <th>18</th>\n",
              "      <td>0</td>\n",
              "      <td>8.975464</td>\n",
              "      <td>279.357167</td>\n",
              "      <td>19460.39813</td>\n",
              "      <td>6.204321</td>\n",
              "      <td>0</td>\n",
              "      <td>431.443990</td>\n",
              "      <td>12.888759</td>\n",
              "      <td>63.821237</td>\n",
              "      <td>2.436086</td>\n",
              "    </tr>\n",
              "    <tr>\n",
              "      <th>19</th>\n",
              "      <td>0</td>\n",
              "      <td>7.371050</td>\n",
              "      <td>214.496611</td>\n",
              "      <td>25630.32004</td>\n",
              "      <td>4.432669</td>\n",
              "      <td>0</td>\n",
              "      <td>469.914552</td>\n",
              "      <td>12.509164</td>\n",
              "      <td>62.797277</td>\n",
              "      <td>2.560299</td>\n",
              "    </tr>\n",
              "  </tbody>\n",
              "</table>\n",
              "</div>"
            ],
            "text/plain": [
              "    Potavel         pH   Densidade  ...  MateriaOrganica  Trihalometanos  Turbidez\n",
              "0         0        NaN  204.890456  ...        10.379783       86.990970  2.963135\n",
              "1         0   3.716080  129.422921  ...        15.180013       56.329076  4.500656\n",
              "2         0   8.099124  224.236259  ...        16.868637       66.420093  3.055934\n",
              "3         0   8.316766  214.373394  ...        18.436525      100.341674  4.628771\n",
              "4         0   9.092223  181.101509  ...        11.558279       31.997993  4.075075\n",
              "5         0   5.584087  188.313324  ...         8.399735       54.917862  2.559708\n",
              "6         0  10.223862  248.071735  ...        13.789695       84.603556  2.672989\n",
              "7         0   8.635849  203.361523  ...        12.363817       62.798309  4.401425\n",
              "8         0        NaN  118.988579  ...        12.706049       53.928846  3.595017\n",
              "9         0  11.180284  227.231469  ...        17.927806       71.976601  4.370562\n",
              "10        0   7.360640  165.520797  ...        15.586810       78.740016  3.662292\n",
              "11        0   7.974522  218.693300  ...        14.525746       76.485911  4.011718\n",
              "12        0   7.119824  156.704993  ...        15.929536       79.500778  3.445756\n",
              "13        0        NaN  150.174923  ...        19.370807       76.509996  4.413974\n",
              "14        0   7.496232  205.344982  ...        13.228311       70.300213  4.777382\n",
              "15        0   6.347272  186.732881  ...        11.539781       75.071617  4.376348\n",
              "16        0   7.051786  211.049406  ...        20.397022       56.651604  4.268429\n",
              "17        0   9.181560  273.813807  ...        13.387341       71.457362  4.503661\n",
              "18        0   8.975464  279.357167  ...        12.888759       63.821237  2.436086\n",
              "19        0   7.371050  214.496611  ...        12.509164       62.797277  2.560299\n",
              "\n",
              "[20 rows x 10 columns]"
            ]
          },
          "metadata": {
            "tags": []
          },
          "execution_count": 15
        }
      ]
    },
    {
      "cell_type": "markdown",
      "metadata": {
        "id": "WAjKI9hECaGv"
      },
      "source": [
        "**hists** gráfico"
      ]
    },
    {
      "cell_type": "code",
      "metadata": {
        "id": "9YxSZotHCb-U",
        "colab": {
          "base_uri": "https://localhost:8080/",
          "height": 497
        },
        "outputId": "d8a9806a-199c-4eeb-8b44-a97687b92485"
      },
      "source": [
        "df.hist(bins=100)\n"
      ],
      "execution_count": null,
      "outputs": [
        {
          "output_type": "execute_result",
          "data": {
            "text/plain": [
              "array([[<matplotlib.axes._subplots.AxesSubplot object at 0x7f2b4bff3910>,\n",
              "        <matplotlib.axes._subplots.AxesSubplot object at 0x7f2b4bd99e90>,\n",
              "        <matplotlib.axes._subplots.AxesSubplot object at 0x7f2b4bd5c510>],\n",
              "       [<matplotlib.axes._subplots.AxesSubplot object at 0x7f2b4baf3b90>,\n",
              "        <matplotlib.axes._subplots.AxesSubplot object at 0x7f2b4bab5250>,\n",
              "        <matplotlib.axes._subplots.AxesSubplot object at 0x7f2b4ba698d0>],\n",
              "       [<matplotlib.axes._subplots.AxesSubplot object at 0x7f2b4ba9efd0>,\n",
              "        <matplotlib.axes._subplots.AxesSubplot object at 0x7f2b4ba625d0>,\n",
              "        <matplotlib.axes._subplots.AxesSubplot object at 0x7f2b4ba62610>],\n",
              "       [<matplotlib.axes._subplots.AxesSubplot object at 0x7f2b4ba14d90>,\n",
              "        <matplotlib.axes._subplots.AxesSubplot object at 0x7f2b4b98f9d0>,\n",
              "        <matplotlib.axes._subplots.AxesSubplot object at 0x7f2b4b939b90>]],\n",
              "      dtype=object)"
            ]
          },
          "metadata": {
            "tags": []
          },
          "execution_count": 16
        },
        {
          "output_type": "display_data",
          "data": {
            "image/png": "[encoded data removed]",
            "text/plain": [
              "<Figure size 432x288 with 12 Axes>"
            ]
          },
          "metadata": {
            "tags": [],
            "needs_background": "light"
          }
        }
      ]
    },
    {
      "cell_type": "markdown",
      "metadata": {
        "id": "xf9T6MFrCGJM"
      },
      "source": [
        "**matplotlib** é uma biblioteca de gráficos para Python"
      ]
    },
    {
      "cell_type": "code",
      "metadata": {
        "id": "4iMvNI94B7tb"
      },
      "source": [
        "import matplotlib.pyplot as plt"
      ],
      "execution_count": null,
      "outputs": []
    },
    {
      "cell_type": "markdown",
      "metadata": {
        "id": "EChKP4HUD8HQ"
      },
      "source": [
        "**Bokeh** pacote de gráficos interativo\n"
      ]
    },
    {
      "cell_type": "code",
      "metadata": {
        "id": "-EIfwv0_D_SA"
      },
      "source": [
        "from bokeh.io import output_notebook\n",
        "from bokeh.plotting import figure,show\n"
      ],
      "execution_count": null,
      "outputs": []
    },
    {
      "cell_type": "markdown",
      "metadata": {
        "id": "JhQnGpj5EBPj"
      },
      "source": [
        "**output_notebook** visualiza os gráficos no notebook sendo gerados de forma embutida"
      ]
    },
    {
      "cell_type": "code",
      "metadata": {
        "id": "XgfVET6HEFH-"
      },
      "source": [
        "output_notebook()\n"
      ],
      "execution_count": null,
      "outputs": []
    },
    {
      "cell_type": "markdown",
      "metadata": {
        "id": "_lskqPZJEWYs"
      },
      "source": [
        "**figure** é o espaço onde o gráfico será impresso"
      ]
    },
    {
      "cell_type": "code",
      "metadata": {
        "id": "Zu-8d5VjEY7I"
      },
      "source": [
        "p = figure(plot_height = 600, plot_width = 600, title = 'Gráfico', x_axis_label = 'Eixo X', y_axis_label = 'Eixo Y')\n"
      ],
      "execution_count": null,
      "outputs": []
    },
    {
      "cell_type": "markdown",
      "metadata": {
        "id": "RUzOgXGLEblD"
      },
      "source": [
        "**vbar** define um histograma com os dados"
      ]
    },
    {
      "cell_type": "code",
      "metadata": {
        "id": "j4DbhwiQEewV",
        "colab": {
          "base_uri": "https://localhost:8080/",
          "height": 17
        },
        "outputId": "4dae959a-6899-4198-fed5-61ec647cf9ec"
      },
      "source": [
        "p.vbar(top=df['Potavel'], x=df['Densidade'], width=1)\n",
        "show(p)"
      ],
      "execution_count": null,
      "outputs": [
        {
          "output_type": "display_data",
          "data": {
            "application/javascript": [
              "\n",
              "(function(root) {\n",
              "  function now() {\n",
              "    return new Date();\n",
              "  }\n",
              "\n",
              "  var force = true;\n",
              "\n",
              "  if (typeof root._bokeh_onload_callbacks === \"undefined\" || force === true) {\n",
              "    root._bokeh_onload_callbacks = [];\n",
              "    root._bokeh_is_loading = undefined;\n",
              "  }\n",
              "\n",
              "  var JS_MIME_TYPE = 'application/javascript';\n",
              "  var HTML_MIME_TYPE = 'text/html';\n",
              "  var EXEC_MIME_TYPE = 'application/vnd.bokehjs_exec.v0+json';\n",
              "  var CLASS_NAME = 'output_bokeh rendered_html';\n",
              "\n",
              "  /**\n",
              "   * Render data to the DOM node\n",
              "   */\n",
              "  function render(props, node) {\n",
              "    var script = document.createElement(\"script\");\n",
              "    node.appendChild(script);\n",
              "  }\n",
              "\n",
              "  /**\n",
              "   * Handle when an output is cleared or removed\n",
              "   */\n",
              "  function handleClearOutput(event, handle) {\n",
              "    var cell = handle.cell;\n",
              "\n",
              "    var id = cell.output_area._bokeh_element_id;\n",
              "    var server_id = cell.output_area._bokeh_server_id;\n",
              "    // Clean up Bokeh references\n",
              "    if (id != null && id in Bokeh.index) {\n",
              "      Bokeh.index[id].model.document.clear();\n",
              "      delete Bokeh.index[id];\n",
              "    }\n",
              "\n",
              "    if (server_id !== undefined) {\n",
              "      // Clean up Bokeh references\n",
              "      var cmd = \"from bokeh.io.state import curstate; print(curstate().uuid_to_server['\" + server_id + \"'].get_sessions()[0].document.roots[0]._id)\";\n",
              "      cell.notebook.kernel.execute(cmd, {\n",
              "        iopub: {\n",
              "          output: function(msg) {\n",
              "            var id = msg.content.text.trim();\n",
              "            if (id in Bokeh.index) {\n",
              "              Bokeh.index[id].model.document.clear();\n",
              "              delete Bokeh.index[id];\n",
              "            }\n",
              "          }\n",
              "        }\n",
              "      });\n",
              "      // Destroy server and session\n",
              "      var cmd = \"import bokeh.io.notebook as ion; ion.destroy_server('\" + server_id + \"')\";\n",
              "      cell.notebook.kernel.execute(cmd);\n",
              "    }\n",
              "  }\n",
              "\n",
              "  /**\n",
              "   * Handle when a new output is added\n",
              "   */\n",
              "  function handleAddOutput(event, handle) {\n",
              "    var output_area = handle.output_area;\n",
              "    var output = handle.output;\n",
              "\n",
              "    // limit handleAddOutput to display_data with EXEC_MIME_TYPE content only\n",
              "    if ((output.output_type != \"display_data\") || (!Object.prototype.hasOwnProperty.call(output.data, EXEC_MIME_TYPE))) {\n",
              "      return\n",
              "    }\n",
              "\n",
              "    var toinsert = output_area.element.find(\".\" + CLASS_NAME.split(' ')[0]);\n",
              "\n",
              "    if (output.metadata[EXEC_MIME_TYPE][\"id\"] !== undefined) {\n",
              "      toinsert[toinsert.length - 1].firstChild.textContent = output.data[JS_MIME_TYPE];\n",
              "      // store reference to embed id on output_area\n",
              "      output_area._bokeh_element_id = output.metadata[EXEC_MIME_TYPE][\"id\"];\n",
              "    }\n",
              "    if (output.metadata[EXEC_MIME_TYPE][\"server_id\"] !== undefined) {\n",
              "      var bk_div = document.createElement(\"div\");\n",
              "      bk_div.innerHTML = output.data[HTML_MIME_TYPE];\n",
              "      var script_attrs = bk_div.children[0].attributes;\n",
              "      for (var i = 0; i < script_attrs.length; i++) {\n",
              "        toinsert[toinsert.length - 1].firstChild.setAttribute(script_attrs[i].name, script_attrs[i].value);\n",
              "        toinsert[toinsert.length - 1].firstChild.textContent = bk_div.children[0].textContent\n",
              "      }\n",
              "      // store reference to server id on output_area\n",
              "      output_area._bokeh_server_id = output.metadata[EXEC_MIME_TYPE][\"server_id\"];\n",
              "    }\n",
              "  }\n",
              "\n",
              "  function register_renderer(events, OutputArea) {\n",
              "\n",
              "    function append_mime(data, metadata, element) {\n",
              "      // create a DOM node to render to\n",
              "      var toinsert = this.create_output_subarea(\n",
              "        metadata,\n",
              "        CLASS_NAME,\n",
              "        EXEC_MIME_TYPE\n",
              "      );\n",
              "      this.keyboard_manager.register_events(toinsert);\n",
              "      // Render to node\n",
              "      var props = {data: data, metadata: metadata[EXEC_MIME_TYPE]};\n",
              "      render(props, toinsert[toinsert.length - 1]);\n",
              "      element.append(toinsert);\n",
              "      return toinsert\n",
              "    }\n",
              "\n",
              "    /* Handle when an output is cleared or removed */\n",
              "    events.on('clear_output.CodeCell', handleClearOutput);\n",
              "    events.on('delete.Cell', handleClearOutput);\n",
              "\n",
              "    /* Handle when a new output is added */\n",
              "    events.on('output_added.OutputArea', handleAddOutput);\n",
              "\n",
              "    /**\n",
              "     * Register the mime type and append_mime function with output_area\n",
              "     */\n",
              "    OutputArea.prototype.register_mime_type(EXEC_MIME_TYPE, append_mime, {\n",
              "      /* Is output safe? */\n",
              "      safe: true,\n",
              "      /* Index of renderer in `output_area.display_order` */\n",
              "      index: 0\n",
              "    });\n",
              "  }\n",
              "\n",
              "  // register the mime type if in Jupyter Notebook environment and previously unregistered\n",
              "  if (root.Jupyter !== undefined) {\n",
              "    var events = require('base/js/events');\n",
              "    var OutputArea = require('notebook/js/outputarea').OutputArea;\n",
              "\n",
              "    if (OutputArea.prototype.mime_types().indexOf(EXEC_MIME_TYPE) == -1) {\n",
              "      register_renderer(events, OutputArea);\n",
              "    }\n",
              "  }\n",
              "\n",
              "  \n",
              "  if (typeof (root._bokeh_timeout) === \"undefined\" || force === true) {\n",
              "    root._bokeh_timeout = Date.now() + 5000;\n",
              "    root._bokeh_failed_load = false;\n",
              "  }\n",
              "\n",
              "  var NB_LOAD_WARNING = {'data': {'text/html':\n",
              "     \"<div style='background-color: #fdd'>\\n\"+\n",
              "     \"<p>\\n\"+\n",
              "     \"BokehJS does not appear to have successfully loaded. If loading BokehJS from CDN, this \\n\"+\n",
              "     \"may be due to a slow or bad network connection. Possible fixes:\\n\"+\n",
              "     \"</p>\\n\"+\n",
              "     \"<ul>\\n\"+\n",
              "     \"<li>re-rerun `output_notebook()` to attempt to load from CDN again, or</li>\\n\"+\n",
              "     \"<li>use INLINE resources instead, as so:</li>\\n\"+\n",
              "     \"</ul>\\n\"+\n",
              "     \"<code>\\n\"+\n",
              "     \"from bokeh.resources import INLINE\\n\"+\n",
              "     \"output_notebook(resources=INLINE)\\n\"+\n",
              "     \"</code>\\n\"+\n",
              "     \"</div>\"}};\n",
              "\n",
              "  function display_loaded() {\n",
              "    var el = document.getElementById(null);\n",
              "    if (el != null) {\n",
              "      el.textContent = \"BokehJS is loading...\";\n",
              "    }\n",
              "    if (root.Bokeh !== undefined) {\n",
              "      if (el != null) {\n",
              "        el.textContent = \"BokehJS \" + root.Bokeh.version + \" successfully loaded.\";\n",
              "      }\n",
              "    } else if (Date.now() < root._bokeh_timeout) {\n",
              "      setTimeout(display_loaded, 100)\n",
              "    }\n",
              "  }\n",
              "\n",
              "\n",
              "  function run_callbacks() {\n",
              "    try {\n",
              "      root._bokeh_onload_callbacks.forEach(function(callback) {\n",
              "        if (callback != null)\n",
              "          callback();\n",
              "      });\n",
              "    } finally {\n",
              "      delete root._bokeh_onload_callbacks\n",
              "    }\n",
              "    console.debug(\"Bokeh: all callbacks have finished\");\n",
              "  }\n",
              "\n",
              "  function load_libs(css_urls, js_urls, callback) {\n",
              "    if (css_urls == null) css_urls = [];\n",
              "    if (js_urls == null) js_urls = [];\n",
              "\n",
              "    root._bokeh_onload_callbacks.push(callback);\n",
              "    if (root._bokeh_is_loading > 0) {\n",
              "      console.debug(\"Bokeh: BokehJS is being loaded, scheduling callback at\", now());\n",
              "      return null;\n",
              "    }\n",
              "    if (js_urls == null || js_urls.length === 0) {\n",
              "      run_callbacks();\n",
              "      return null;\n",
              "    }\n",
              "    console.debug(\"Bokeh: BokehJS not loaded, scheduling load and callback at\", now());\n",
              "    root._bokeh_is_loading = css_urls.length + js_urls.length;\n",
              "\n",
              "    function on_load() {\n",
              "      root._bokeh_is_loading--;\n",
              "      if (root._bokeh_is_loading === 0) {\n",
              "        console.debug(\"Bokeh: all BokehJS libraries/stylesheets loaded\");\n",
              "        run_callbacks()\n",
              "      }\n",
              "    }\n",
              "\n",
              "    function on_error(url) {\n",
              "      console.error(\"failed to load \" + url);\n",
              "    }\n",
              "\n",
              "    for (let i = 0; i < css_urls.length; i++) {\n",
              "      const url = css_urls[i];\n",
              "      const element = document.createElement(\"link\");\n",
              "      element.onload = on_load;\n",
              "      element.onerror = on_error.bind(null, url);\n",
              "      element.rel = \"stylesheet\";\n",
              "      element.type = \"text/css\";\n",
              "      element.href = url;\n",
              "      console.debug(\"Bokeh: injecting link tag for BokehJS stylesheet: \", url);\n",
              "      document.body.appendChild(element);\n",
              "    }\n",
              "\n",
              "    const hashes = {\"https://cdn.bokeh.org/bokeh/release/bokeh-2.3.2.min.js\": \"XypntL49z55iwGVUW4qsEu83zKL3XEcz0MjuGOQ9SlaaQ68X/g+k1FcioZi7oQAc\", \"https://cdn.bokeh.org/bokeh/release/bokeh-tables-2.3.2.min.js\": \"bEsM86IHGDTLCS0Zod8a8WM6Y4+lafAL/eSiyQcuPzinmWNgNO2/olUF0Z2Dkn5i\", \"https://cdn.bokeh.org/bokeh/release/bokeh-widgets-2.3.2.min.js\": \"TX0gSQTdXTTeScqxj6PVQxTiRW8DOoGVwinyi1D3kxv7wuxQ02XkOxv0xwiypcAH\"};\n",
              "\n",
              "    for (let i = 0; i < js_urls.length; i++) {\n",
              "      const url = js_urls[i];\n",
              "      const element = document.createElement('script');\n",
              "      element.onload = on_load;\n",
              "      element.onerror = on_error.bind(null, url);\n",
              "      element.async = false;\n",
              "      element.src = url;\n",
              "      if (url in hashes) {\n",
              "        element.crossOrigin = \"anonymous\";\n",
              "        element.integrity = \"sha384-\" + hashes[url];\n",
              "      }\n",
              "      console.debug(\"Bokeh: injecting script tag for BokehJS library: \", url);\n",
              "      document.head.appendChild(element);\n",
              "    }\n",
              "  };\n",
              "\n",
              "  function inject_raw_css(css) {\n",
              "    const element = document.createElement(\"style\");\n",
              "    element.appendChild(document.createTextNode(css));\n",
              "    document.body.appendChild(element);\n",
              "  }\n",
              "\n",
              "  \n",
              "  var js_urls = [\"https://cdn.bokeh.org/bokeh/release/bokeh-2.3.2.min.js\", \"https://cdn.bokeh.org/bokeh/release/bokeh-widgets-2.3.2.min.js\", \"https://cdn.bokeh.org/bokeh/release/bokeh-tables-2.3.2.min.js\"];\n",
              "  var css_urls = [];\n",
              "  \n",
              "\n",
              "  var inline_js = [\n",
              "    function(Bokeh) {\n",
              "      Bokeh.set_log_level(\"info\");\n",
              "    },\n",
              "    function(Bokeh) {\n",
              "    \n",
              "    \n",
              "    }\n",
              "  ];\n",
              "\n",
              "  function run_inline_js() {\n",
              "    \n",
              "    if (root.Bokeh !== undefined || force === true) {\n",
              "      \n",
              "    for (var i = 0; i < inline_js.length; i++) {\n",
              "      inline_js[i].call(root, root.Bokeh);\n",
              "    }\n",
              "    } else if (Date.now() < root._bokeh_timeout) {\n",
              "      setTimeout(run_inline_js, 100);\n",
              "    } else if (!root._bokeh_failed_load) {\n",
              "      console.log(\"Bokeh: BokehJS failed to load within specified timeout.\");\n",
              "      root._bokeh_failed_load = true;\n",
              "    } else if (force !== true) {\n",
              "      var cell = $(document.getElementById(null)).parents('.cell').data().cell;\n",
              "      cell.output_area.append_execute_result(NB_LOAD_WARNING)\n",
              "    }\n",
              "\n",
              "  }\n",
              "\n",
              "  if (root._bokeh_is_loading === 0) {\n",
              "    console.debug(\"Bokeh: BokehJS loaded, going straight to plotting\");\n",
              "    run_inline_js();\n",
              "  } else {\n",
              "    load_libs(css_urls, js_urls, function() {\n",
              "      console.debug(\"Bokeh: BokehJS plotting callback run at\", now());\n",
              "      run_inline_js();\n",
              "    });\n",
              "  }\n",
              "}(window));"
            ],
            "application/vnd.bokehjs_load.v0+json": "\n(function(root) {\n  function now() {\n    return new Date();\n  }\n\n  var force = true;\n\n  if (typeof root._bokeh_onload_callbacks === \"undefined\" || force === true) {\n    root._bokeh_onload_callbacks = [];\n    root._bokeh_is_loading = undefined;\n  }\n\n  \n\n  \n  if (typeof (root._bokeh_timeout) === \"undefined\" || force === true) {\n    root._bokeh_timeout = Date.now() + 5000;\n    root._bokeh_failed_load = false;\n  }\n\n  var NB_LOAD_WARNING = {'data': {'text/html':\n     \"<div style='background-color: #fdd'>\\n\"+\n     \"<p>\\n\"+\n     \"BokehJS does not appear to have successfully loaded. If loading BokehJS from CDN, this \\n\"+\n     \"may be due to a slow or bad network connection. Possible fixes:\\n\"+\n     \"</p>\\n\"+\n     \"<ul>\\n\"+\n     \"<li>re-rerun `output_notebook()` to attempt to load from CDN again, or</li>\\n\"+\n     \"<li>use INLINE resources instead, as so:</li>\\n\"+\n     \"</ul>\\n\"+\n     \"<code>\\n\"+\n     \"from bokeh.resources import INLINE\\n\"+\n     \"output_notebook(resources=INLINE)\\n\"+\n     \"</code>\\n\"+\n     \"</div>\"}};\n\n  function display_loaded() {\n    var el = document.getElementById(null);\n    if (el != null) {\n      el.textContent = \"BokehJS is loading...\";\n    }\n    if (root.Bokeh !== undefined) {\n      if (el != null) {\n        el.textContent = \"BokehJS \" + root.Bokeh.version + \" successfully loaded.\";\n      }\n    } else if (Date.now() < root._bokeh_timeout) {\n      setTimeout(display_loaded, 100)\n    }\n  }\n\n\n  function run_callbacks() {\n    try {\n      root._bokeh_onload_callbacks.forEach(function(callback) {\n        if (callback != null)\n          callback();\n      });\n    } finally {\n      delete root._bokeh_onload_callbacks\n    }\n    console.debug(\"Bokeh: all callbacks have finished\");\n  }\n\n  function load_libs(css_urls, js_urls, callback) {\n    if (css_urls == null) css_urls = [];\n    if (js_urls == null) js_urls = [];\n\n    root._bokeh_onload_callbacks.push(callback);\n    if (root._bokeh_is_loading > 0) {\n      console.debug(\"Bokeh: BokehJS is being loaded, scheduling callback at\", now());\n      return null;\n    }\n    if (js_urls == null || js_urls.length === 0) {\n      run_callbacks();\n      return null;\n    }\n    console.debug(\"Bokeh: BokehJS not loaded, scheduling load and callback at\", now());\n    root._bokeh_is_loading = css_urls.length + js_urls.length;\n\n    function on_load() {\n      root._bokeh_is_loading--;\n      if (root._bokeh_is_loading === 0) {\n        console.debug(\"Bokeh: all BokehJS libraries/stylesheets loaded\");\n        run_callbacks()\n      }\n    }\n\n    function on_error(url) {\n      console.error(\"failed to load \" + url);\n    }\n\n    for (let i = 0; i < css_urls.length; i++) {\n      const url = css_urls[i];\n      const element = document.createElement(\"link\");\n      element.onload = on_load;\n      element.onerror = on_error.bind(null, url);\n      element.rel = \"stylesheet\";\n      element.type = \"text/css\";\n      element.href = url;\n      console.debug(\"Bokeh: injecting link tag for BokehJS stylesheet: \", url);\n      document.body.appendChild(element);\n    }\n\n    const hashes = {\"https://cdn.bokeh.org/bokeh/release/bokeh-2.3.2.min.js\": \"XypntL49z55iwGVUW4qsEu83zKL3XEcz0MjuGOQ9SlaaQ68X/g+k1FcioZi7oQAc\", \"https://cdn.bokeh.org/bokeh/release/bokeh-tables-2.3.2.min.js\": \"bEsM86IHGDTLCS0Zod8a8WM6Y4+lafAL/eSiyQcuPzinmWNgNO2/olUF0Z2Dkn5i\", \"https://cdn.bokeh.org/bokeh/release/bokeh-widgets-2.3.2.min.js\": \"TX0gSQTdXTTeScqxj6PVQxTiRW8DOoGVwinyi1D3kxv7wuxQ02XkOxv0xwiypcAH\"};\n\n    for (let i = 0; i < js_urls.length; i++) {\n      const url = js_urls[i];\n      const element = document.createElement('script');\n      element.onload = on_load;\n      element.onerror = on_error.bind(null, url);\n      element.async = false;\n      element.src = url;\n      if (url in hashes) {\n        element.crossOrigin = \"anonymous\";\n        element.integrity = \"sha384-\" + hashes[url];\n      }\n      console.debug(\"Bokeh: injecting script tag for BokehJS library: \", url);\n      document.head.appendChild(element);\n    }\n  };\n\n  function inject_raw_css(css) {\n    const element = document.createElement(\"style\");\n    element.appendChild(document.createTextNode(css));\n    document.body.appendChild(element);\n  }\n\n  \n  var js_urls = [\"https://cdn.bokeh.org/bokeh/release/bokeh-2.3.2.min.js\", \"https://cdn.bokeh.org/bokeh/release/bokeh-widgets-2.3.2.min.js\", \"https://cdn.bokeh.org/bokeh/release/bokeh-tables-2.3.2.min.js\"];\n  var css_urls = [];\n  \n\n  var inline_js = [\n    function(Bokeh) {\n      Bokeh.set_log_level(\"info\");\n    },\n    function(Bokeh) {\n    \n    \n    }\n  ];\n\n  function run_inline_js() {\n    \n    if (root.Bokeh !== undefined || force === true) {\n      \n    for (var i = 0; i < inline_js.length; i++) {\n      inline_js[i].call(root, root.Bokeh);\n    }\n    } else if (Date.now() < root._bokeh_timeout) {\n      setTimeout(run_inline_js, 100);\n    } else if (!root._bokeh_failed_load) {\n      console.log(\"Bokeh: BokehJS failed to load within specified timeout.\");\n      root._bokeh_failed_load = true;\n    } else if (force !== true) {\n      var cell = $(document.getElementById(null)).parents('.cell').data().cell;\n      cell.output_area.append_execute_result(NB_LOAD_WARNING)\n    }\n\n  }\n\n  if (root._bokeh_is_loading === 0) {\n    console.debug(\"Bokeh: BokehJS loaded, going straight to plotting\");\n    run_inline_js();\n  } else {\n    load_libs(css_urls, js_urls, function() {\n      console.debug(\"Bokeh: BokehJS plotting callback run at\", now());\n      run_inline_js();\n    });\n  }\n}(window));"
          },
          "metadata": {
            "tags": []
          }
        },
        {
          "output_type": "display_data",
          "data": {
            "text/html": [
              "\n",
              "\n",
              "\n",
              "\n",
              "\n",
              "\n",
              "  <div class=\"bk-root\" id=\"d26bb80e-8270-4c21-a4b0-cb61f642c215\" data-root-id=\"1002\"></div>\n"
            ]
          },
          "metadata": {
            "tags": []
          }
        },
        {
          "output_type": "display_data",
          "data": {
            "application/javascript": [
              "(function(root) {\n",
              "  function embed_document(root) {\n",
              "    \n",
              "  var docs_json = {\"9a670b1f-37ae-47ea-aa34-c977292c584a\":{\"defs\":[],\"roots\":{\"references\":[{\"attributes\":{\"below\":[{\"id\":\"1013\"}],\"center\":[{\"id\":\"1016\"},{\"id\":\"1020\"}],\"left\":[{\"id\":\"1017\"}],\"renderers\":[{\"id\":\"1038\"}],\"title\":{\"id\":\"1003\"},\"toolbar\":{\"id\":\"1028\"},\"x_range\":{\"id\":\"1005\"},\"x_scale\":{\"id\":\"1009\"},\"y_range\":{\"id\":\"1007\"},\"y_scale\":{\"id\":\"1011\"}},\"id\":\"1002\",\"subtype\":\"Figure\",\"type\":\"Plot\"},{\"attributes\":{\"data_source\":{\"id\":\"1035\"},\"glyph\":{\"id\":\"1036\"},\"hover_glyph\":null,\"muted_glyph\":null,\"nonselection_glyph\":{\"id\":\"1037\"},\"view\":{\"id\":\"1039\"}},\"id\":\"1038\",\"type\":\"GlyphRenderer\"},{\"attributes\":{},\"id\":\"1021\",\"type\":\"PanTool\"},{\"attributes\":{},\"id\":\"1043\",\"type\":\"AllLabels\"},{\"attributes\":{},\"id\":\"1046\",\"type\":\"AllLabels\"},{\"attributes\":{},\"id\":\"1042\",\"type\":\"BasicTickFormatter\"},{\"attributes\":{},\"id\":\"1047\",\"type\":\"UnionRenderers\"},{\"attributes\":{},\"id\":\"1014\",\"type\":\"BasicTicker\"},{\"attributes\":{},\"id\":\"1022\",\"type\":\"WheelZoomTool\"},{\"attributes\":{\"fill_alpha\":{\"value\":0.1},\"fill_color\":{\"value\":\"#1f77b4\"},\"line_alpha\":{\"value\":0.1},\"line_color\":{\"value\":\"#1f77b4\"},\"top\":{\"field\":\"top\"},\"x\":{\"field\":\"x\"}},\"id\":\"1037\",\"type\":\"VBar\"},{\"attributes\":{\"overlay\":{\"id\":\"1027\"}},\"id\":\"1023\",\"type\":\"BoxZoomTool\"},{\"attributes\":{},\"id\":\"1009\",\"type\":\"LinearScale\"},{\"attributes\":{},\"id\":\"1007\",\"type\":\"DataRange1d\"},{\"attributes\":{\"data\":{\"top\":[0,0,0,0,0,0,0,0,0,0,0,0,0,0,0,0,0,0,0,0,0,0,0,0,0,0,0,0,0,0,0,0,0,0,0,0,0,0,0,0,0,0,0,0,0,0,0,0,0,0,0,0,0,0,0,0,0,0,0,0,0,0,0,0,0,0,0,0,0,0,0,0,0,0,0,0,0,0,0,0,0,0,0,0,0,0,0,0,0,0,0,0,0,0,0,0,0,0,0,0,0,0,0,0,0,0,0,0,0,0,0,0,0,0,0,0,0,0,0,0,0,0,0,0,0,0,0,0,0,0,0,0,0,0,0,0,0,0,0,0,0,0,0,0,0,0,0,0,0,0,0,0,0,0,0,0,0,0,0,0,0,0,0,0,0,0,0,0,0,0,0,0,0,0,0,0,0,0,0,0,0,0,0,0,0,0,0,0,0,0,0,0,0,0,0,0,0,0,0,0,0,0,0,0,0,0,0,0,0,0,0,0,0,0,0,0,0,0,0,0,0,0,0,0,0,0,0,0,0,0,0,0,0,0,0,0,0,0,0,0,0,0,0,0,0,0,0,0,0,0,0,0,0,0,0,0,0,0,0,0,0,0,0,0,0,0,0,0,0,0,0,0,0,0,0,0,0,0,0,0,0,0,0,0,0,0,0,0,0,0,0,0,0,0,0,0,0,0,0,0,0,0,0,0,0,0,0,0,0,0,0,0,0,0,0,0,0,0,0,0,0,0,0,0,0,0,0,0,0,0,0,0,0,0,0,0,0,0,0,0,0,0,0,0,0,0,0,0,0,0,0,0,0,0,0,0,0,0,0,0,0,0,0,0,0,0,0,0,0,0,0,0,0,0,0,0,0,0,0,0,0,0,0,0,0,0,0,0,0,0,0,0,0,0,0,0,0,0,0,0,0,0,0,0,0,0,0,0,0,0,0,0,0,0,0,0,0,0,0,0,0,0,0,0,0,0,0,0,0,0,0,0,0,0,0,0,0,0,0,0,0,0,0,0,0,0,0,0,0,0,0,0,0,0,0,0,0,0,0,0,0,0,0,0,0,0,0,0,0,0,0,0,0,0,0,0,0,0,0,0,0,0,0,0,0,0,0,0,0,0,0,0,0,0,0,0,0,0,0,0,0,0,0,0,0,0,0,0,0,0,0,0,0,0,0,0,0,0,0,0,0,0,0,0,0,0,0,0,0,0,0,0,0,0,0,0,0,0,0,0,0,0,0,0,0,0,0,0,0,0,0,0,0,0,0,0,0,0,0,0,0,0,0,0,0,0,0,0,0,0,0,0,0,0,0,0,0,0,0,0,0,0,0,0,0,0,0,0,0,0,0,0,0,0,0,0,0,0,0,0,0,0,0,0,0,0,0,0,0,0,0,0,0,0,0,0,0,0,0,0,0,0,0,0,0,0,0,0,0,0,0,0,0,0,0,0,0,0,0,0,0,0,0,0,0,0,0,0,0,0,0,0,0,0,0,0,0,0,0,0,0,0,0,0,0,0,0,0,0,0,0,0,0,0,0,0,0,0,0,0,0,0,0,0,0,0,0,0,0,0,0,0,0,0,0,0,0,0,0,0,0,0,0,0,0,0,0,0,0,0,0,0,0,0,0,0,0,0,0,0,0,0,0,0,0,0,0,0,0,0,0,0,0,0,0,0,0,0,0,0,0,0,0,0,0,0,0,0,0,0,0,0,0,0,0,0,0,0,0,0,0,0,0,0,0,0,0,0,0,0,0,0,0,0,0,0,0,0,0,0,0,0,0,0,0,0,0,0,0,0,0,0,0,0,0,0,0,0,0,0,0,0,0,0,0,0,0,0,0,0,0,0,0,0,0,0,0,0,0,0,0,0,0,0,0,0,0,0,0,0,0,0,0,0,0,0,0,0,0,0,0,0,0,0,0,0,0,0,0,0,0,0,0,0,0,0,0,0,0,0,0,0,0,0,0,0,0,0,0,0,0,0,0,0,0,0,0,0,0,0,0,0,0,0,0,0,0,0,0,0,0,0,0,0,0,0,0,0,0,0,0,0,0,0,0,0,0,0,0,0,0,0,0,0,0,0,0,0,0,0,0,0,0,0,0,0,0,0,0,0,0,0,0,0,0,0,0,0,0,0,0,0,0,0,0,0,0,0,0,0,0,0,0,0,0,0,0,0,0,0,0,0,0,0,0,0,0,0,0,0,0,0,0,0,0,0,0,0,0,0,0,0,0,0,0,0,0,0,0,0,0,0,0,0,0,0,0,0,0,0,0,0,0,0,0,0,0,0,0,0,0,0,0,0,0,0,0,0,0,0,0,0,0,0,0,0,0,0,0,0,0,0,0,0,0,0,0,0,0,0,0,0,0,0,0,0,0,0,0,0,0,0,0,0,0,0,0,0,0,0,0,0,0,0,0,0,0,0,0,0,0,0,0,0,0,0,0,0,0,0,0,0,0,0,0,0,0,0,0,0,0,0,0,0,0,0,0,0,0,0,0,0,0,0,0,0,0,0,0,0,0,0,0,0,0,0,0,0,0,0,0,0,0,0,0,0,0,0,0,0,0,0,0,0,0,0,0,0,0,0,0,0,0,0,0,0,0,0,0,0,0,0,0,0,0,0,0,0,0,0,0,0,0,0,0,0,0,0,0,0,0,0,0,0,0,0,0,0,0,0,0,0,0,0,0,0,0,0,0,0,0,0,0,0,0,0,0,0,0,0,0,0,0,0,0,0,0,0,0,0,0,0,0,0,0,0,0,0,0,0,0,0,0,0,0,0,0,0,0,0,0,0,0,0,0,0,0,0,0,0,0,0,0,0,0,0,0,0,0,0,0,0,0,0,0,0,0,0,0,0,0,0,0,0,0,0,0,0,0,0,0,0,0,0,0,0,0,0,0,0,0,0,0,0,0,0,0,0,0,0,0,0,0,0,0,0,0,0,0,0,0,0,0,0,0,0,0,0,0,0,0,0,0,0,0,0,0,0,0,0,0,0,0,0,0,0,0,0,0,0,0,0,0,0,0,0,0,0,0,0,0,0,0,0,0,0,0,0,0,0,0,0,0,0,0,0,0,0,0,0,0,0,0,0,0,0,0,0,0,0,0,0,0,0,0,0,0,0,0,0,0,0,0,0,0,0,0,0,0,0,0,0,0,0,0,0,0,0,0,0,0,0,0,0,0,0,0,0,0,0,0,0,0,0,0,0,0,0,0,0,0,0,0,0,0,0,0,0,0,0,0,0,0,0,0,0,0,0,0,0,0,0,0,0,0,0,0,0,0,0,0,0,0,0,0,0,0,0,0,0,0,0,0,0,0,0,0,0,0,0,0,0,0,0,0,0,0,0,0,0,0,0,0,0,0,0,0,0,0,0,0,0,0,0,0,0,0,0,0,0,0,0,0,0,0,0,0,0,0,0,0,0,0,0,0,0,0,0,0,0,0,0,0,0,0,0,0,0,0,0,0,0,0,0,0,0,0,0,0,0,0,0,0,0,0,0,0,0,0,0,0,0,0,0,0,0,0,0,0,0,0,0,0,0,0,0,0,0,0,0,0,0,0,0,0,0,0,0,0,0,0,0,0,0,0,0,0,0,0,0,0,0,0,0,0,0,0,0,0,0,0,0,0,0,0,0,0,0,0,0,0,0,0,0,0,0,0,0,0,0,0,0,0,0,0,0,0,0,0,0,0,0,0,0,0,0,0,0,0,0,0,0,0,0,0,0,0,0,0,0,0,0,0,0,0,0,0,0,0,0,0,0,0,0,0,0,0,0,0,0,0,0,0,0,0,0,0,0,0,0,0,0,0,0,0,0,0,0,0,0,0,0,0,0,0,0,0,0,0,0,0,0,0,0,0,0,0,0,0,0,0,0,0,0,0,0,0,0,0,0,0,0,0,0,0,0,0,0,0,0,0,0,0,0,0,0,0,0,0,0,0,0,0,0,0,0,0,0,0,0,0,0,0,0,0,0,0,0,0,0,0,0,0,0,0,0,0,0,0,0,0,0,0,0,0,0,0,0,0,0,0,0,0,0,0,0,0,0,0,0,0,0,0,0,0,0,0,0,0,0,0,0,0,0,0,0,0,0,0,0,0,0,0,0,0,0,0,0,0,0,0,0,0,0,0,0,0,0,0,0,0,0,0,0,0,0,0,0,0,0,0,0,0,0,0,0,0,0,0,0,0,0,0,0,0,0,0,0,0,0,0,0,0,0,0,0,0,0,0,0,0,0,0,0,0,0,0,0,0,0,0,0,0,0,0,0,0,0,0,0,0,0,0,0,0,0,0,0,0,0,0,0,0,0,0,0,0,0,0,0,0,0,0,0,0,0,0,0,0,0,0,0,0,0,0,0,0,0,0,0,0,0,0,0,0,0,0,0,0,0,0,0,0,0,0,0,0,0,0,0,0,0,0,0,0,0,0,0,0,0,0,0,0,0,0,0,0,0,0,0,0,0,0,0,0,0,0,0,0,0,0,0,0,0,0,0,0,0,0,0,0,0,0,0,0,0,0,0,1,1,1,1,1,1,1,1,1,1,1,1,1,1,1,1,1,1,1,1,1,1,1,1,1,1,1,1,1,1,1,1,1,1,1,1,1,1,1,1,1,1,1,1,1,1,1,1,1,1,1,1,1,1,1,1,1,1,1,1,1,1,1,1,1,1,1,1,1,1,1,1,1,1,1,1,1,1,1,1,1,1,1,1,1,1,1,1,1,1,1,1,1,1,1,1,1,1,1,1,1,1,1,1,1,1,1,1,1,1,1,1,1,1,1,1,1,1,1,1,1,1,1,1,1,1,1,1,1,1,1,1,1,1,1,1,1,1,1,1,1,1,1,1,1,1,1,1,1,1,1,1,1,1,1,1,1,1,1,1,1,1,1,1,1,1,1,1,1,1,1,1,1,1,1,1,1,1,1,1,1,1,1,1,1,1,1,1,1,1,1,1,1,1,1,1,1,1,1,1,1,1,1,1,1,1,1,1,1,1,1,1,1,1,1,1,1,1,1,1,1,1,1,1,1,1,1,1,1,1,1,1,1,1,1,1,1,1,1,1,1,1,1,1,1,1,1,1,1,1,1,1,1,1,1,1,1,1,1,1,1,1,1,1,1,1,1,1,1,1,1,1,1,1,1,1,1,1,1,1,1,1,1,1,1,1,1,1,1,1,1,1,1,1,1,1,1,1,1,1,1,1,1,1,1,1,1,1,1,1,1,1,1,1,1,1,1,1,1,1,1,1,1,1,1,1,1,1,1,1,1,1,1,1,1,1,1,1,1,1,1,1,1,1,1,1,1,1,1,1,1,1,1,1,1,1,1,1,1,1,1,1,1,1,1,1,1,1,1,1,1,1,1,1,1,1,1,1,1,1,1,1,1,1,1,1,1,1,1,1,1,1,1,1,1,1,1,1,1,1,1,1,1,1,1,1,1,1,1,1,1,1,1,1,1,1,1,1,1,1,1,1,1,1,1,1,1,1,1,1,1,1,1,1,1,1,1,1,1,1,1,1,1,1,1,1,1,1,1,1,1,1,1,1,1,1,1,1,1,1,1,1,1,1,1,1,1,1,1,1,1,1,1,1,1,1,1,1,1,1,1,1,1,1,1,1,1,1,1,1,1,1,1,1,1,1,1,1,1,1,1,1,1,1,1,1,1,1,1,1,1,1,1,1,1,1,1,1,1,1,1,1,1,1,1,1,1,1,1,1,1,1,1,1,1,1,1,1,1,1,1,1,1,1,1,1,1,1,1,1,1,1,1,1,1,1,1,1,1,1,1,1,1,1,1,1,1,1,1,1,1,1,1,1,1,1,1,1,1,1,1,1,1,1,1,1,1,1,1,1,1,1,1,1,1,1,1,1,1,1,1,1,1,1,1,1,1,1,1,1,1,1,1,1,1,1,1,1,1,1,1,1,1,1,1,1,1,1,1,1,1,1,1,1,1,1,1,1,1,1,1,1,1,1,1,1,1,1,1,1,1,1,1,1,1,1,1,1,1,1,1,1,1,1,1,1,1,1,1,1,1,1,1,1,1,1,1,1,1,1,1,1,1,1,1,1,1,1,1,1,1,1,1,1,1,1,1,1,1,1,1,1,1,1,1,1,1,1,1,1,1,1,1,1,1,1,1,1,1,1,1,1,1,1,1,1,1,1,1,1,1,1,1,1,1,1,1,1,1,1,1,1,1,1,1,1,1,1,1,1,1,1,1,1,1,1,1,1,1,1,1,1,1,1,1,1,1,1,1,1,1,1,1,1,1,1,1,1,1,1,1,1,1,1,1,1,1,1,1,1,1,1,1,1,1,1,1,1,1,1,1,1,1,1,1,1,1,1,1,1,1,1,1,1,1,1,1,1,1,1,1,1,1,1,1,1,1,1,1,1,1,1,1,1,1,1,1,1,1,1,1,1,1,1,1,1,1,1,1,1,1,1,1,1,1,1,1,1,1,1,1,1,1,1,1,1,1,1,1,1,1,1,1,1,1,1,1,1,1,1,1,1,1,1,1,1,1,1,1,1,1,1,1,1,1,1,1,1,1,1,1,1,1,1,1,1,1,1,1,1,1,1,1,1,1,1,1,1,1,1,1,1,1,1,1,1,1,1,1,1,1,1,1,1,1,1,1,1,1,1,1,1,1,1,1,1,1,1,1,1,1,1,1,1,1,1,1,1,1,1,1,1,1,1,1,1,1,1,1,1,1,1,1,1,1,1,1,1,1,1,1,1,1,1,1,1,1,1,1,1,1,1,1,1,1,1,1,1,1,1,1,1,1,1,1,1,1,1,1,1,1,1,1,1,1,1,1,1,1,1,1,1,1,1,1,1,1,1,1,1,1,1,1,1,1,1,1,1,1,1,1,1,1,1,1,1,1,1,1,1,1,1,1,1,1,1,1,1,1,1,1,1,1,1,1,1,1,1,1,1,1,1,1,1,1,1,1,1,1,1,1,1,1,1,1,1,1,1,1,1,1,1,1,1,1,1,1,1,1,1,1,1,1,1,1,1,1,1,1,1,1,1,1,1,1,1,1,1,1,1,1,1,1,1,1,1,1,1,1,1,1,1,1,1,1,1,1,1,1,1,1,1,1,1,1,1,1,1,1,1,1,1,1,1,1,1,1,1,1,1,1,1,1,1,1,1,1,1,1,1,1,1,1,1,1,1,1,1,1,1,1,1,1,1,1,1,1,1,1,1,1,1,1,1,1,1,1,1,1,1,1,1,1,1,1,1,1,1,1,1,1,1,1,1,1,1,1,1,1,1,1,1,1,1,1,1,1,1,1,1,1,1,1,1,1,1,1,1,1,1,1,1,1,1,1,1,1,1,1,1,1,1,1,1,1,1,1,1,1,1,1,1,1,1,1,1,1,1,1,1,1,1,1,1,1,1,1,1],\"x\":{\"__ndarray__\":\"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\",\"dtype\":\"float64\",\"order\":\"little\",\"shape\":[3276]}},\"selected\":{\"id\":\"1048\"},\"selection_policy\":{\"id\":\"1047\"}},\"id\":\"1035\",\"type\":\"ColumnDataSource\"},{\"attributes\":{\"active_multi\":null,\"tools\":[{\"id\":\"1021\"},{\"id\":\"1022\"},{\"id\":\"1023\"},{\"id\":\"1024\"},{\"id\":\"1025\"},{\"id\":\"1026\"}]},\"id\":\"1028\",\"type\":\"Toolbar\"},{\"attributes\":{\"source\":{\"id\":\"1035\"}},\"id\":\"1039\",\"type\":\"CDSView\"},{\"attributes\":{\"axis_label\":\"Eixo Y\",\"formatter\":{\"id\":\"1045\"},\"major_label_policy\":{\"id\":\"1046\"},\"ticker\":{\"id\":\"1018\"}},\"id\":\"1017\",\"type\":\"LinearAxis\"},{\"attributes\":{\"axis\":{\"id\":\"1017\"},\"dimension\":1,\"ticker\":null},\"id\":\"1020\",\"type\":\"Grid\"},{\"attributes\":{},\"id\":\"1048\",\"type\":\"Selection\"},{\"attributes\":{\"axis_label\":\"Eixo X\",\"formatter\":{\"id\":\"1042\"},\"major_label_policy\":{\"id\":\"1043\"},\"ticker\":{\"id\":\"1014\"}},\"id\":\"1013\",\"type\":\"LinearAxis\"},{\"attributes\":{},\"id\":\"1018\",\"type\":\"BasicTicker\"},{\"attributes\":{\"bottom_units\":\"screen\",\"fill_alpha\":0.5,\"fill_color\":\"lightgrey\",\"left_units\":\"screen\",\"level\":\"overlay\",\"line_alpha\":1.0,\"line_color\":\"black\",\"line_dash\":[4,4],\"line_width\":2,\"right_units\":\"screen\",\"syncable\":false,\"top_units\":\"screen\"},\"id\":\"1027\",\"type\":\"BoxAnnotation\"},{\"attributes\":{},\"id\":\"1005\",\"type\":\"DataRange1d\"},{\"attributes\":{},\"id\":\"1011\",\"type\":\"LinearScale\"},{\"attributes\":{},\"id\":\"1045\",\"type\":\"BasicTickFormatter\"},{\"attributes\":{\"fill_color\":{\"value\":\"#1f77b4\"},\"line_color\":{\"value\":\"#1f77b4\"},\"top\":{\"field\":\"top\"},\"x\":{\"field\":\"x\"}},\"id\":\"1036\",\"type\":\"VBar\"},{\"attributes\":{},\"id\":\"1025\",\"type\":\"ResetTool\"},{\"attributes\":{\"axis\":{\"id\":\"1013\"},\"ticker\":null},\"id\":\"1016\",\"type\":\"Grid\"},{\"attributes\":{},\"id\":\"1026\",\"type\":\"HelpTool\"},{\"attributes\":{},\"id\":\"1024\",\"type\":\"SaveTool\"},{\"attributes\":{\"text\":\"Gr\\u00e1fico\"},\"id\":\"1003\",\"type\":\"Title\"}],\"root_ids\":[\"1002\"]},\"title\":\"Bokeh Application\",\"version\":\"2.3.2\"}};\n",
              "  var render_items = [{\"docid\":\"9a670b1f-37ae-47ea-aa34-c977292c584a\",\"root_ids\":[\"1002\"],\"roots\":{\"1002\":\"d26bb80e-8270-4c21-a4b0-cb61f642c215\"}}];\n",
              "  root.Bokeh.embed.embed_items_notebook(docs_json, render_items);\n",
              "\n",
              "  }\n",
              "  if (root.Bokeh !== undefined) {\n",
              "    embed_document(root);\n",
              "  } else {\n",
              "    var attempts = 0;\n",
              "    var timer = setInterval(function(root) {\n",
              "      if (root.Bokeh !== undefined) {\n",
              "        clearInterval(timer);\n",
              "        embed_document(root);\n",
              "      } else {\n",
              "        attempts++;\n",
              "        if (attempts > 100) {\n",
              "          clearInterval(timer);\n",
              "          console.log(\"Bokeh: ERROR: Unable to run BokehJS code because BokehJS library is missing\");\n",
              "        }\n",
              "      }\n",
              "    }, 10, root)\n",
              "  }\n",
              "})(window);"
            ],
            "application/vnd.bokehjs_exec.v0+json": ""
          },
          "metadata": {
            "tags": [],
            "application/vnd.bokehjs_exec.v0+json": {
              "id": "1002"
            }
          }
        }
      ]
    }
  ]
}